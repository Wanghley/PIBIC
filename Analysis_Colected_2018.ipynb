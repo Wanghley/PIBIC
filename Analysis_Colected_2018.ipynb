{
  "nbformat": 4,
  "nbformat_minor": 0,
  "metadata": {
    "colab": {
      "name": "Análise Coleta 2018",
      "provenance": [],
      "collapsed_sections": [],
      "machine_shape": "hm",
      "authorship_tag": "ABX9TyNFG9EAuAAEdf/0nsdFa6w+"
    },
    "kernelspec": {
      "name": "python3",
      "display_name": "Python 3"
    }
  },
  "cells": [
    {
      "cell_type": "markdown",
      "metadata": {
        "id": "UKbIuA7epOfc",
        "colab_type": "text"
      },
      "source": [
        "### Dataset getter and preparation"
      ]
    },
    {
      "cell_type": "code",
      "metadata": {
        "id": "aT2Nqj5BKlZ4",
        "colab_type": "code",
        "colab": {}
      },
      "source": [
        "# Code to read csv file into Colaboratory:!pip install -U -q PyDrive\n",
        "from pydrive.auth import GoogleAuth\n",
        "from pydrive.drive import GoogleDrive\n",
        "from google.colab import auth\n",
        "from oauth2client.client import GoogleCredentials# Authenticate and create the PyDrive client.\n",
        "auth.authenticate_user()\n",
        "gauth = GoogleAuth()\n",
        "gauth.credentials = GoogleCredentials.get_application_default()\n",
        "drive = GoogleDrive(gauth)"
      ],
      "execution_count": 0,
      "outputs": []
    },
    {
      "cell_type": "code",
      "metadata": {
        "id": "I3VqCs_JKrd0",
        "colab_type": "code",
        "colab": {}
      },
      "source": [
        "link='https://drive.google.com/open?id=1gr9ZKT9fqBUbmIgQI0xeycupvBC77G80' "
      ],
      "execution_count": 0,
      "outputs": []
    },
    {
      "cell_type": "code",
      "metadata": {
        "id": "ti4LmilfPbtL",
        "colab_type": "code",
        "colab": {}
      },
      "source": [
        "fluff, id = link.split('=')"
      ],
      "execution_count": 0,
      "outputs": []
    },
    {
      "cell_type": "code",
      "metadata": {
        "id": "_biKXorZPkdR",
        "colab_type": "code",
        "colab": {}
      },
      "source": [
        "downloaded = drive.CreateFile({'id':id}) \n",
        "downloaded.GetContentFile('aparecido01r.csv')  \n",
        "# Dataset is now stored in colab"
      ],
      "execution_count": 0,
      "outputs": []
    },
    {
      "cell_type": "code",
      "metadata": {
        "id": "kmcgYaD6feCf",
        "colab_type": "code",
        "colab": {}
      },
      "source": [
        "import pandas as pd\n",
        "import numpy as np"
      ],
      "execution_count": 0,
      "outputs": []
    },
    {
      "cell_type": "code",
      "metadata": {
        "id": "jd6bQ5X-P76r",
        "colab_type": "code",
        "outputId": "4366302e-9c56-4f00-9f0f-4da0b346f290",
        "colab": {
          "base_uri": "https://localhost:8080/",
          "height": 226
        }
      },
      "source": [
        "df_parkinsonian = pd.read_csv('aparecido01r.csv')\n",
        "df_parkinsonian.drop(['VarName42'],inplace=True,axis=1)\n",
        "df_parkinsonian.head()"
      ],
      "execution_count": 6,
      "outputs": [
        {
          "output_type": "execute_result",
          "data": {
            "text/html": [
              "<div>\n",
              "<style scoped>\n",
              "    .dataframe tbody tr th:only-of-type {\n",
              "        vertical-align: middle;\n",
              "    }\n",
              "\n",
              "    .dataframe tbody tr th {\n",
              "        vertical-align: top;\n",
              "    }\n",
              "\n",
              "    .dataframe thead th {\n",
              "        text-align: right;\n",
              "    }\n",
              "</style>\n",
              "<table border=\"1\" class=\"dataframe\">\n",
              "  <thead>\n",
              "    <tr style=\"text-align: right;\">\n",
              "      <th></th>\n",
              "      <th>Time</th>\n",
              "      <th>G1X</th>\n",
              "      <th>G1Y</th>\n",
              "      <th>G1Z</th>\n",
              "      <th>G2X</th>\n",
              "      <th>G2Y</th>\n",
              "      <th>G2Z</th>\n",
              "      <th>G3X</th>\n",
              "      <th>G3Y</th>\n",
              "      <th>G3Z</th>\n",
              "      <th>G4X</th>\n",
              "      <th>G4Y</th>\n",
              "      <th>G4Z</th>\n",
              "      <th>A1X</th>\n",
              "      <th>A1Y</th>\n",
              "      <th>A1Z</th>\n",
              "      <th>A2X</th>\n",
              "      <th>A2Y</th>\n",
              "      <th>A2Z</th>\n",
              "      <th>A3X</th>\n",
              "      <th>A3Y</th>\n",
              "      <th>A3Z</th>\n",
              "      <th>A4X</th>\n",
              "      <th>A4Y</th>\n",
              "      <th>A4Z</th>\n",
              "      <th>M1X</th>\n",
              "      <th>M1Y</th>\n",
              "      <th>M1Z</th>\n",
              "      <th>M2X</th>\n",
              "      <th>M2Y</th>\n",
              "      <th>M2Z</th>\n",
              "      <th>M3X</th>\n",
              "      <th>M3Y</th>\n",
              "      <th>M3Z</th>\n",
              "      <th>M4X</th>\n",
              "      <th>M4Y</th>\n",
              "      <th>M4Z</th>\n",
              "      <th>EMG1</th>\n",
              "      <th>EMG2</th>\n",
              "      <th>PULSEA</th>\n",
              "      <th>PULSEB</th>\n",
              "    </tr>\n",
              "  </thead>\n",
              "  <tbody>\n",
              "    <tr>\n",
              "      <th>0</th>\n",
              "      <td>0.00</td>\n",
              "      <td>-48.241398</td>\n",
              "      <td>-2.616922</td>\n",
              "      <td>54.711223</td>\n",
              "      <td>5.897612</td>\n",
              "      <td>-5.668727</td>\n",
              "      <td>15.358206</td>\n",
              "      <td>0.00763</td>\n",
              "      <td>0.00763</td>\n",
              "      <td>0.00763</td>\n",
              "      <td>0.00763</td>\n",
              "      <td>0.00763</td>\n",
              "      <td>0.00763</td>\n",
              "      <td>-0.277653</td>\n",
              "      <td>-0.400458</td>\n",
              "      <td>-0.739940</td>\n",
              "      <td>-0.337835</td>\n",
              "      <td>-0.119570</td>\n",
              "      <td>-0.858228</td>\n",
              "      <td>0.000061</td>\n",
              "      <td>0.000061</td>\n",
              "      <td>0.000061</td>\n",
              "      <td>0.000061</td>\n",
              "      <td>0.000061</td>\n",
              "      <td>0.000061</td>\n",
              "      <td>0.204501</td>\n",
              "      <td>-0.049042</td>\n",
              "      <td>-0.039948</td>\n",
              "      <td>0.163058</td>\n",
              "      <td>-0.145113</td>\n",
              "      <td>0.023957</td>\n",
              "      <td>0.000031</td>\n",
              "      <td>0.000031</td>\n",
              "      <td>0.000031</td>\n",
              "      <td>0.000031</td>\n",
              "      <td>0.000031</td>\n",
              "      <td>0.000031</td>\n",
              "      <td>4.648508</td>\n",
              "      <td>0.626230</td>\n",
              "      <td>0.825013</td>\n",
              "      <td>2.475038</td>\n",
              "    </tr>\n",
              "    <tr>\n",
              "      <th>1</th>\n",
              "      <td>0.02</td>\n",
              "      <td>1.960784</td>\n",
              "      <td>-1.152056</td>\n",
              "      <td>29.549096</td>\n",
              "      <td>19.569696</td>\n",
              "      <td>-0.556954</td>\n",
              "      <td>5.531395</td>\n",
              "      <td>0.00763</td>\n",
              "      <td>0.00763</td>\n",
              "      <td>0.00763</td>\n",
              "      <td>0.00763</td>\n",
              "      <td>0.00763</td>\n",
              "      <td>0.00763</td>\n",
              "      <td>-0.362860</td>\n",
              "      <td>-0.766430</td>\n",
              "      <td>-0.891798</td>\n",
              "      <td>-0.431464</td>\n",
              "      <td>-0.220279</td>\n",
              "      <td>-0.898146</td>\n",
              "      <td>0.000061</td>\n",
              "      <td>0.000061</td>\n",
              "      <td>0.000061</td>\n",
              "      <td>0.000061</td>\n",
              "      <td>0.000061</td>\n",
              "      <td>0.000061</td>\n",
              "      <td>0.206394</td>\n",
              "      <td>-0.051423</td>\n",
              "      <td>-0.039338</td>\n",
              "      <td>0.163546</td>\n",
              "      <td>-0.148287</td>\n",
              "      <td>0.016388</td>\n",
              "      <td>0.000031</td>\n",
              "      <td>0.000031</td>\n",
              "      <td>0.000031</td>\n",
              "      <td>0.000031</td>\n",
              "      <td>0.000031</td>\n",
              "      <td>0.000031</td>\n",
              "      <td>3.563287</td>\n",
              "      <td>2.904097</td>\n",
              "      <td>0.825013</td>\n",
              "      <td>2.475038</td>\n",
              "    </tr>\n",
              "    <tr>\n",
              "      <th>2</th>\n",
              "      <td>0.04</td>\n",
              "      <td>44.670787</td>\n",
              "      <td>6.050202</td>\n",
              "      <td>-12.092775</td>\n",
              "      <td>18.165866</td>\n",
              "      <td>4.280156</td>\n",
              "      <td>-5.867094</td>\n",
              "      <td>0.00763</td>\n",
              "      <td>0.00763</td>\n",
              "      <td>0.00763</td>\n",
              "      <td>0.00763</td>\n",
              "      <td>0.00763</td>\n",
              "      <td>0.00763</td>\n",
              "      <td>-0.368475</td>\n",
              "      <td>-0.887892</td>\n",
              "      <td>-0.764965</td>\n",
              "      <td>-0.391669</td>\n",
              "      <td>-0.305608</td>\n",
              "      <td>-0.838209</td>\n",
              "      <td>0.000061</td>\n",
              "      <td>0.000061</td>\n",
              "      <td>0.000061</td>\n",
              "      <td>0.000061</td>\n",
              "      <td>0.000061</td>\n",
              "      <td>0.000061</td>\n",
              "      <td>0.208469</td>\n",
              "      <td>-0.052277</td>\n",
              "      <td>-0.037263</td>\n",
              "      <td>0.163119</td>\n",
              "      <td>-0.148836</td>\n",
              "      <td>0.031220</td>\n",
              "      <td>0.000031</td>\n",
              "      <td>0.000031</td>\n",
              "      <td>0.000031</td>\n",
              "      <td>0.000031</td>\n",
              "      <td>0.000031</td>\n",
              "      <td>0.000031</td>\n",
              "      <td>3.317922</td>\n",
              "      <td>2.830854</td>\n",
              "      <td>0.825013</td>\n",
              "      <td>2.475038</td>\n",
              "    </tr>\n",
              "    <tr>\n",
              "      <th>3</th>\n",
              "      <td>0.06</td>\n",
              "      <td>70.168612</td>\n",
              "      <td>-4.188602</td>\n",
              "      <td>-58.556497</td>\n",
              "      <td>17.494469</td>\n",
              "      <td>5.943389</td>\n",
              "      <td>-14.839399</td>\n",
              "      <td>0.00763</td>\n",
              "      <td>0.00763</td>\n",
              "      <td>0.00763</td>\n",
              "      <td>0.00763</td>\n",
              "      <td>0.00763</td>\n",
              "      <td>0.00763</td>\n",
              "      <td>-0.275578</td>\n",
              "      <td>-0.982010</td>\n",
              "      <td>-0.538766</td>\n",
              "      <td>-0.362371</td>\n",
              "      <td>-0.398016</td>\n",
              "      <td>-0.842603</td>\n",
              "      <td>0.000061</td>\n",
              "      <td>0.000061</td>\n",
              "      <td>0.000061</td>\n",
              "      <td>0.000061</td>\n",
              "      <td>0.000061</td>\n",
              "      <td>0.000061</td>\n",
              "      <td>0.206088</td>\n",
              "      <td>-0.050629</td>\n",
              "      <td>-0.036835</td>\n",
              "      <td>0.163912</td>\n",
              "      <td>-0.148653</td>\n",
              "      <td>0.036103</td>\n",
              "      <td>0.000031</td>\n",
              "      <td>0.000031</td>\n",
              "      <td>0.000031</td>\n",
              "      <td>0.000031</td>\n",
              "      <td>0.000031</td>\n",
              "      <td>0.000031</td>\n",
              "      <td>3.208057</td>\n",
              "      <td>2.795453</td>\n",
              "      <td>0.825013</td>\n",
              "      <td>2.475038</td>\n",
              "    </tr>\n",
              "    <tr>\n",
              "      <th>4</th>\n",
              "      <td>0.08</td>\n",
              "      <td>70.214389</td>\n",
              "      <td>-33.928435</td>\n",
              "      <td>-71.725032</td>\n",
              "      <td>15.800717</td>\n",
              "      <td>4.554818</td>\n",
              "      <td>-21.248188</td>\n",
              "      <td>0.00763</td>\n",
              "      <td>0.00763</td>\n",
              "      <td>0.00763</td>\n",
              "      <td>0.00763</td>\n",
              "      <td>0.00763</td>\n",
              "      <td>0.00763</td>\n",
              "      <td>-0.185489</td>\n",
              "      <td>-0.879713</td>\n",
              "      <td>-0.390692</td>\n",
              "      <td>-0.323674</td>\n",
              "      <td>-0.414496</td>\n",
              "      <td>-0.758495</td>\n",
              "      <td>0.000061</td>\n",
              "      <td>0.000061</td>\n",
              "      <td>0.000061</td>\n",
              "      <td>0.000061</td>\n",
              "      <td>0.000061</td>\n",
              "      <td>0.000061</td>\n",
              "      <td>0.204074</td>\n",
              "      <td>-0.048554</td>\n",
              "      <td>-0.036896</td>\n",
              "      <td>0.160006</td>\n",
              "      <td>-0.148959</td>\n",
              "      <td>0.038361</td>\n",
              "      <td>0.000031</td>\n",
              "      <td>0.000031</td>\n",
              "      <td>0.000031</td>\n",
              "      <td>0.000031</td>\n",
              "      <td>0.000031</td>\n",
              "      <td>0.000031</td>\n",
              "      <td>3.150683</td>\n",
              "      <td>2.778363</td>\n",
              "      <td>0.825013</td>\n",
              "      <td>2.475038</td>\n",
              "    </tr>\n",
              "  </tbody>\n",
              "</table>\n",
              "</div>"
            ],
            "text/plain": [
              "   Time        G1X        G1Y  ...      EMG2    PULSEA    PULSEB\n",
              "0  0.00 -48.241398  -2.616922  ...  0.626230  0.825013  2.475038\n",
              "1  0.02   1.960784  -1.152056  ...  2.904097  0.825013  2.475038\n",
              "2  0.04  44.670787   6.050202  ...  2.830854  0.825013  2.475038\n",
              "3  0.06  70.168612  -4.188602  ...  2.795453  0.825013  2.475038\n",
              "4  0.08  70.214389 -33.928435  ...  2.778363  0.825013  2.475038\n",
              "\n",
              "[5 rows x 41 columns]"
            ]
          },
          "metadata": {
            "tags": []
          },
          "execution_count": 6
        }
      ]
    },
    {
      "cell_type": "code",
      "metadata": {
        "id": "mm4b1oaaQJOV",
        "colab_type": "code",
        "outputId": "33946c98-ce7a-4a40-b673-d4e528289d16",
        "colab": {
          "base_uri": "https://localhost:8080/",
          "height": 296
        }
      },
      "source": [
        "df_parkinsonian.plot(kind='line',x='Time',y=['G1Y','PULSEB'])"
      ],
      "execution_count": 7,
      "outputs": [
        {
          "output_type": "execute_result",
          "data": {
            "text/plain": [
              "<matplotlib.axes._subplots.AxesSubplot at 0x7fdb5c7a23c8>"
            ]
          },
          "metadata": {
            "tags": []
          },
          "execution_count": 7
        },
        {
          "output_type": "display_data",
          "data": {
            "image/png": "[encoded data removed]",
            "text/plain": [
              "<Figure size 432x288 with 1 Axes>"
            ]
          },
          "metadata": {
            "tags": [],
            "needs_background": "light"
          }
        }
      ]
    },
    {
      "cell_type": "code",
      "metadata": {
        "id": "Xz26Iru0tadV",
        "colab_type": "code",
        "outputId": "5021eb1a-bb09-47bb-ca95-01bd40a9a05a",
        "colab": {
          "base_uri": "https://localhost:8080/",
          "height": 444
        }
      },
      "source": [
        "df_parkinsonian.loc[df_parkinsonian['PULSEB']<2]"
      ],
      "execution_count": 8,
      "outputs": [
        {
          "output_type": "execute_result",
          "data": {
            "text/html": [
              "<div>\n",
              "<style scoped>\n",
              "    .dataframe tbody tr th:only-of-type {\n",
              "        vertical-align: middle;\n",
              "    }\n",
              "\n",
              "    .dataframe tbody tr th {\n",
              "        vertical-align: top;\n",
              "    }\n",
              "\n",
              "    .dataframe thead th {\n",
              "        text-align: right;\n",
              "    }\n",
              "</style>\n",
              "<table border=\"1\" class=\"dataframe\">\n",
              "  <thead>\n",
              "    <tr style=\"text-align: right;\">\n",
              "      <th></th>\n",
              "      <th>Time</th>\n",
              "      <th>G1X</th>\n",
              "      <th>G1Y</th>\n",
              "      <th>G1Z</th>\n",
              "      <th>G2X</th>\n",
              "      <th>G2Y</th>\n",
              "      <th>G2Z</th>\n",
              "      <th>G3X</th>\n",
              "      <th>G3Y</th>\n",
              "      <th>G3Z</th>\n",
              "      <th>G4X</th>\n",
              "      <th>G4Y</th>\n",
              "      <th>G4Z</th>\n",
              "      <th>A1X</th>\n",
              "      <th>A1Y</th>\n",
              "      <th>A1Z</th>\n",
              "      <th>A2X</th>\n",
              "      <th>A2Y</th>\n",
              "      <th>A2Z</th>\n",
              "      <th>A3X</th>\n",
              "      <th>A3Y</th>\n",
              "      <th>A3Z</th>\n",
              "      <th>A4X</th>\n",
              "      <th>A4Y</th>\n",
              "      <th>A4Z</th>\n",
              "      <th>M1X</th>\n",
              "      <th>M1Y</th>\n",
              "      <th>M1Z</th>\n",
              "      <th>M2X</th>\n",
              "      <th>M2Y</th>\n",
              "      <th>M2Z</th>\n",
              "      <th>M3X</th>\n",
              "      <th>M3Y</th>\n",
              "      <th>M3Z</th>\n",
              "      <th>M4X</th>\n",
              "      <th>M4Y</th>\n",
              "      <th>M4Z</th>\n",
              "      <th>EMG1</th>\n",
              "      <th>EMG2</th>\n",
              "      <th>PULSEA</th>\n",
              "      <th>PULSEB</th>\n",
              "    </tr>\n",
              "  </thead>\n",
              "  <tbody>\n",
              "    <tr>\n",
              "      <th>296</th>\n",
              "      <td>5.92</td>\n",
              "      <td>-86.648356</td>\n",
              "      <td>32.845045</td>\n",
              "      <td>44.090944</td>\n",
              "      <td>14.961471</td>\n",
              "      <td>-0.785840</td>\n",
              "      <td>20.241093</td>\n",
              "      <td>0.00763</td>\n",
              "      <td>0.00763</td>\n",
              "      <td>0.00763</td>\n",
              "      <td>0.00763</td>\n",
              "      <td>0.00763</td>\n",
              "      <td>0.00763</td>\n",
              "      <td>-0.128237</td>\n",
              "      <td>-0.427070</td>\n",
              "      <td>-0.390326</td>\n",
              "      <td>-0.257145</td>\n",
              "      <td>-0.202701</td>\n",
              "      <td>-0.805005</td>\n",
              "      <td>0.000061</td>\n",
              "      <td>0.000061</td>\n",
              "      <td>0.000061</td>\n",
              "      <td>0.000061</td>\n",
              "      <td>0.000061</td>\n",
              "      <td>0.000061</td>\n",
              "      <td>0.198215</td>\n",
              "      <td>-0.045075</td>\n",
              "      <td>-0.037995</td>\n",
              "      <td>0.162020</td>\n",
              "      <td>-0.146456</td>\n",
              "      <td>0.030915</td>\n",
              "      <td>0.000031</td>\n",
              "      <td>0.000031</td>\n",
              "      <td>0.000031</td>\n",
              "      <td>0.000031</td>\n",
              "      <td>0.000031</td>\n",
              "      <td>0.000031</td>\n",
              "      <td>3.085985</td>\n",
              "      <td>2.761273</td>\n",
              "      <td>0.825013</td>\n",
              "      <td>0.825013</td>\n",
              "    </tr>\n",
              "    <tr>\n",
              "      <th>297</th>\n",
              "      <td>5.94</td>\n",
              "      <td>-103.173877</td>\n",
              "      <td>-12.520027</td>\n",
              "      <td>55.748836</td>\n",
              "      <td>-6.355383</td>\n",
              "      <td>-5.409323</td>\n",
              "      <td>18.272679</td>\n",
              "      <td>0.00763</td>\n",
              "      <td>0.00763</td>\n",
              "      <td>0.00763</td>\n",
              "      <td>0.00763</td>\n",
              "      <td>0.00763</td>\n",
              "      <td>0.00763</td>\n",
              "      <td>-0.116884</td>\n",
              "      <td>-0.419135</td>\n",
              "      <td>-0.318547</td>\n",
              "      <td>-0.293278</td>\n",
              "      <td>-0.282048</td>\n",
              "      <td>-0.826368</td>\n",
              "      <td>0.000061</td>\n",
              "      <td>0.000061</td>\n",
              "      <td>0.000061</td>\n",
              "      <td>0.000061</td>\n",
              "      <td>0.000061</td>\n",
              "      <td>0.000061</td>\n",
              "      <td>0.198215</td>\n",
              "      <td>-0.045075</td>\n",
              "      <td>-0.037995</td>\n",
              "      <td>0.160311</td>\n",
              "      <td>-0.148165</td>\n",
              "      <td>0.027924</td>\n",
              "      <td>0.000031</td>\n",
              "      <td>0.000031</td>\n",
              "      <td>0.000031</td>\n",
              "      <td>0.000031</td>\n",
              "      <td>0.000031</td>\n",
              "      <td>0.000031</td>\n",
              "      <td>3.082322</td>\n",
              "      <td>2.756390</td>\n",
              "      <td>0.825013</td>\n",
              "      <td>0.825013</td>\n",
              "    </tr>\n",
              "    <tr>\n",
              "      <th>298</th>\n",
              "      <td>5.96</td>\n",
              "      <td>-16.990921</td>\n",
              "      <td>-59.273671</td>\n",
              "      <td>47.737850</td>\n",
              "      <td>0.083925</td>\n",
              "      <td>-3.334096</td>\n",
              "      <td>19.462882</td>\n",
              "      <td>0.00763</td>\n",
              "      <td>0.00763</td>\n",
              "      <td>0.00763</td>\n",
              "      <td>0.00763</td>\n",
              "      <td>0.00763</td>\n",
              "      <td>0.00763</td>\n",
              "      <td>-0.285100</td>\n",
              "      <td>-0.539010</td>\n",
              "      <td>-0.522286</td>\n",
              "      <td>-0.373846</td>\n",
              "      <td>-0.181460</td>\n",
              "      <td>-0.820874</td>\n",
              "      <td>0.000061</td>\n",
              "      <td>0.000061</td>\n",
              "      <td>0.000061</td>\n",
              "      <td>0.000061</td>\n",
              "      <td>0.000061</td>\n",
              "      <td>0.000061</td>\n",
              "      <td>0.199496</td>\n",
              "      <td>-0.047761</td>\n",
              "      <td>-0.037507</td>\n",
              "      <td>0.160616</td>\n",
              "      <td>-0.147982</td>\n",
              "      <td>0.023774</td>\n",
              "      <td>0.000031</td>\n",
              "      <td>0.000031</td>\n",
              "      <td>0.000031</td>\n",
              "      <td>0.000031</td>\n",
              "      <td>0.000031</td>\n",
              "      <td>0.000031</td>\n",
              "      <td>3.081102</td>\n",
              "      <td>2.756390</td>\n",
              "      <td>0.825013</td>\n",
              "      <td>0.825013</td>\n",
              "    </tr>\n",
              "    <tr>\n",
              "      <th>299</th>\n",
              "      <td>5.98</td>\n",
              "      <td>35.790036</td>\n",
              "      <td>-79.156176</td>\n",
              "      <td>18.425269</td>\n",
              "      <td>17.143511</td>\n",
              "      <td>4.615854</td>\n",
              "      <td>3.425650</td>\n",
              "      <td>0.00763</td>\n",
              "      <td>0.00763</td>\n",
              "      <td>0.00763</td>\n",
              "      <td>0.00763</td>\n",
              "      <td>0.00763</td>\n",
              "      <td>0.00763</td>\n",
              "      <td>-0.401312</td>\n",
              "      <td>-1.021561</td>\n",
              "      <td>-0.665232</td>\n",
              "      <td>-0.467842</td>\n",
              "      <td>-0.353460</td>\n",
              "      <td>-0.869703</td>\n",
              "      <td>0.000061</td>\n",
              "      <td>0.000061</td>\n",
              "      <td>0.000061</td>\n",
              "      <td>0.000061</td>\n",
              "      <td>0.000061</td>\n",
              "      <td>0.000061</td>\n",
              "      <td>0.205234</td>\n",
              "      <td>-0.048615</td>\n",
              "      <td>-0.041535</td>\n",
              "      <td>0.161288</td>\n",
              "      <td>-0.148409</td>\n",
              "      <td>0.012848</td>\n",
              "      <td>0.000031</td>\n",
              "      <td>0.000031</td>\n",
              "      <td>0.000031</td>\n",
              "      <td>0.000031</td>\n",
              "      <td>0.000031</td>\n",
              "      <td>0.000031</td>\n",
              "      <td>3.081102</td>\n",
              "      <td>2.756390</td>\n",
              "      <td>0.825013</td>\n",
              "      <td>0.825013</td>\n",
              "    </tr>\n",
              "    <tr>\n",
              "      <th>300</th>\n",
              "      <td>6.00</td>\n",
              "      <td>56.450752</td>\n",
              "      <td>-42.076753</td>\n",
              "      <td>-28.908217</td>\n",
              "      <td>14.747845</td>\n",
              "      <td>2.906844</td>\n",
              "      <td>-9.071489</td>\n",
              "      <td>0.00763</td>\n",
              "      <td>0.00763</td>\n",
              "      <td>0.00763</td>\n",
              "      <td>0.00763</td>\n",
              "      <td>0.00763</td>\n",
              "      <td>0.00763</td>\n",
              "      <td>-0.554635</td>\n",
              "      <td>-1.175128</td>\n",
              "      <td>-0.819043</td>\n",
              "      <td>-0.417426</td>\n",
              "      <td>-0.294987</td>\n",
              "      <td>-0.728222</td>\n",
              "      <td>0.000061</td>\n",
              "      <td>0.000061</td>\n",
              "      <td>0.000061</td>\n",
              "      <td>0.000061</td>\n",
              "      <td>0.000061</td>\n",
              "      <td>0.000061</td>\n",
              "      <td>0.206882</td>\n",
              "      <td>-0.049653</td>\n",
              "      <td>-0.045197</td>\n",
              "      <td>0.161410</td>\n",
              "      <td>-0.149935</td>\n",
              "      <td>0.019806</td>\n",
              "      <td>0.000031</td>\n",
              "      <td>0.000031</td>\n",
              "      <td>0.000031</td>\n",
              "      <td>0.000031</td>\n",
              "      <td>0.000031</td>\n",
              "      <td>0.000031</td>\n",
              "      <td>3.083543</td>\n",
              "      <td>2.760052</td>\n",
              "      <td>0.825013</td>\n",
              "      <td>0.825013</td>\n",
              "    </tr>\n",
              "    <tr>\n",
              "      <th>...</th>\n",
              "      <td>...</td>\n",
              "      <td>...</td>\n",
              "      <td>...</td>\n",
              "      <td>...</td>\n",
              "      <td>...</td>\n",
              "      <td>...</td>\n",
              "      <td>...</td>\n",
              "      <td>...</td>\n",
              "      <td>...</td>\n",
              "      <td>...</td>\n",
              "      <td>...</td>\n",
              "      <td>...</td>\n",
              "      <td>...</td>\n",
              "      <td>...</td>\n",
              "      <td>...</td>\n",
              "      <td>...</td>\n",
              "      <td>...</td>\n",
              "      <td>...</td>\n",
              "      <td>...</td>\n",
              "      <td>...</td>\n",
              "      <td>...</td>\n",
              "      <td>...</td>\n",
              "      <td>...</td>\n",
              "      <td>...</td>\n",
              "      <td>...</td>\n",
              "      <td>...</td>\n",
              "      <td>...</td>\n",
              "      <td>...</td>\n",
              "      <td>...</td>\n",
              "      <td>...</td>\n",
              "      <td>...</td>\n",
              "      <td>...</td>\n",
              "      <td>...</td>\n",
              "      <td>...</td>\n",
              "      <td>...</td>\n",
              "      <td>...</td>\n",
              "      <td>...</td>\n",
              "      <td>...</td>\n",
              "      <td>...</td>\n",
              "      <td>...</td>\n",
              "      <td>...</td>\n",
              "    </tr>\n",
              "    <tr>\n",
              "      <th>6660</th>\n",
              "      <td>133.20</td>\n",
              "      <td>-53.841459</td>\n",
              "      <td>-54.055085</td>\n",
              "      <td>34.599832</td>\n",
              "      <td>-15.449760</td>\n",
              "      <td>-0.190738</td>\n",
              "      <td>-2.220188</td>\n",
              "      <td>0.00763</td>\n",
              "      <td>0.00763</td>\n",
              "      <td>0.00763</td>\n",
              "      <td>0.00763</td>\n",
              "      <td>0.00763</td>\n",
              "      <td>0.00763</td>\n",
              "      <td>-0.160708</td>\n",
              "      <td>-0.372747</td>\n",
              "      <td>-0.395453</td>\n",
              "      <td>-0.284611</td>\n",
              "      <td>-0.341375</td>\n",
              "      <td>-0.717601</td>\n",
              "      <td>0.000061</td>\n",
              "      <td>0.000061</td>\n",
              "      <td>0.000061</td>\n",
              "      <td>0.000061</td>\n",
              "      <td>0.000061</td>\n",
              "      <td>0.000061</td>\n",
              "      <td>0.192416</td>\n",
              "      <td>-0.054841</td>\n",
              "      <td>-0.041474</td>\n",
              "      <td>0.162448</td>\n",
              "      <td>-0.145296</td>\n",
              "      <td>0.029206</td>\n",
              "      <td>0.000031</td>\n",
              "      <td>0.000031</td>\n",
              "      <td>0.000031</td>\n",
              "      <td>0.000031</td>\n",
              "      <td>0.000031</td>\n",
              "      <td>0.000031</td>\n",
              "      <td>3.107958</td>\n",
              "      <td>2.782025</td>\n",
              "      <td>0.825013</td>\n",
              "      <td>0.825013</td>\n",
              "    </tr>\n",
              "    <tr>\n",
              "      <th>6661</th>\n",
              "      <td>133.22</td>\n",
              "      <td>-49.599451</td>\n",
              "      <td>-70.428016</td>\n",
              "      <td>41.710536</td>\n",
              "      <td>-15.800717</td>\n",
              "      <td>-5.119402</td>\n",
              "      <td>0.160220</td>\n",
              "      <td>0.00763</td>\n",
              "      <td>0.00763</td>\n",
              "      <td>0.00763</td>\n",
              "      <td>0.00763</td>\n",
              "      <td>0.00763</td>\n",
              "      <td>0.00763</td>\n",
              "      <td>-0.245914</td>\n",
              "      <td>-0.420233</td>\n",
              "      <td>-0.682200</td>\n",
              "      <td>-0.284855</td>\n",
              "      <td>-0.329656</td>\n",
              "      <td>-0.794507</td>\n",
              "      <td>0.000061</td>\n",
              "      <td>0.000061</td>\n",
              "      <td>0.000061</td>\n",
              "      <td>0.000061</td>\n",
              "      <td>0.000061</td>\n",
              "      <td>0.000061</td>\n",
              "      <td>0.192477</td>\n",
              "      <td>-0.057465</td>\n",
              "      <td>-0.047028</td>\n",
              "      <td>0.161105</td>\n",
              "      <td>-0.143282</td>\n",
              "      <td>0.045563</td>\n",
              "      <td>0.000031</td>\n",
              "      <td>0.000031</td>\n",
              "      <td>0.000031</td>\n",
              "      <td>0.000031</td>\n",
              "      <td>0.000031</td>\n",
              "      <td>0.000031</td>\n",
              "      <td>3.094530</td>\n",
              "      <td>2.760052</td>\n",
              "      <td>0.825013</td>\n",
              "      <td>0.825013</td>\n",
              "    </tr>\n",
              "    <tr>\n",
              "      <th>6662</th>\n",
              "      <td>133.24</td>\n",
              "      <td>-22.743572</td>\n",
              "      <td>-41.588464</td>\n",
              "      <td>16.044862</td>\n",
              "      <td>-10.658427</td>\n",
              "      <td>-1.960784</td>\n",
              "      <td>4.203861</td>\n",
              "      <td>0.00763</td>\n",
              "      <td>0.00763</td>\n",
              "      <td>0.00763</td>\n",
              "      <td>0.00763</td>\n",
              "      <td>0.00763</td>\n",
              "      <td>0.00763</td>\n",
              "      <td>-0.400702</td>\n",
              "      <td>-0.572824</td>\n",
              "      <td>-1.140093</td>\n",
              "      <td>-0.291814</td>\n",
              "      <td>-0.133486</td>\n",
              "      <td>-0.968704</td>\n",
              "      <td>0.000061</td>\n",
              "      <td>0.000061</td>\n",
              "      <td>0.000061</td>\n",
              "      <td>0.000061</td>\n",
              "      <td>0.000061</td>\n",
              "      <td>0.000061</td>\n",
              "      <td>0.193210</td>\n",
              "      <td>-0.056428</td>\n",
              "      <td>-0.051545</td>\n",
              "      <td>0.164462</td>\n",
              "      <td>-0.143404</td>\n",
              "      <td>0.036530</td>\n",
              "      <td>0.000031</td>\n",
              "      <td>0.000031</td>\n",
              "      <td>0.000031</td>\n",
              "      <td>0.000031</td>\n",
              "      <td>0.000031</td>\n",
              "      <td>0.000031</td>\n",
              "      <td>3.094530</td>\n",
              "      <td>2.763714</td>\n",
              "      <td>0.825013</td>\n",
              "      <td>0.825013</td>\n",
              "    </tr>\n",
              "    <tr>\n",
              "      <th>6663</th>\n",
              "      <td>133.26</td>\n",
              "      <td>31.212329</td>\n",
              "      <td>22.224765</td>\n",
              "      <td>-14.778363</td>\n",
              "      <td>5.638209</td>\n",
              "      <td>-1.777676</td>\n",
              "      <td>2.540627</td>\n",
              "      <td>0.00763</td>\n",
              "      <td>0.00763</td>\n",
              "      <td>0.00763</td>\n",
              "      <td>0.00763</td>\n",
              "      <td>0.00763</td>\n",
              "      <td>0.00763</td>\n",
              "      <td>-0.428046</td>\n",
              "      <td>-0.570748</td>\n",
              "      <td>-1.435874</td>\n",
              "      <td>-0.313542</td>\n",
              "      <td>-0.204654</td>\n",
              "      <td>-0.900465</td>\n",
              "      <td>0.000061</td>\n",
              "      <td>0.000061</td>\n",
              "      <td>0.000061</td>\n",
              "      <td>0.000061</td>\n",
              "      <td>0.000061</td>\n",
              "      <td>0.000061</td>\n",
              "      <td>0.193454</td>\n",
              "      <td>-0.057954</td>\n",
              "      <td>-0.051362</td>\n",
              "      <td>0.159579</td>\n",
              "      <td>-0.140841</td>\n",
              "      <td>0.043915</td>\n",
              "      <td>0.000031</td>\n",
              "      <td>0.000031</td>\n",
              "      <td>0.000031</td>\n",
              "      <td>0.000031</td>\n",
              "      <td>0.000031</td>\n",
              "      <td>0.000031</td>\n",
              "      <td>3.089647</td>\n",
              "      <td>2.758831</td>\n",
              "      <td>0.825013</td>\n",
              "      <td>0.825013</td>\n",
              "    </tr>\n",
              "    <tr>\n",
              "      <th>6664</th>\n",
              "      <td>133.28</td>\n",
              "      <td>65.667201</td>\n",
              "      <td>66.918441</td>\n",
              "      <td>-30.449378</td>\n",
              "      <td>11.604486</td>\n",
              "      <td>4.600595</td>\n",
              "      <td>0.999466</td>\n",
              "      <td>0.00763</td>\n",
              "      <td>0.00763</td>\n",
              "      <td>0.00763</td>\n",
              "      <td>0.00763</td>\n",
              "      <td>0.00763</td>\n",
              "      <td>0.00763</td>\n",
              "      <td>-0.331853</td>\n",
              "      <td>-0.527779</td>\n",
              "      <td>-1.208576</td>\n",
              "      <td>-0.298283</td>\n",
              "      <td>-0.220523</td>\n",
              "      <td>-0.905226</td>\n",
              "      <td>0.000061</td>\n",
              "      <td>0.000061</td>\n",
              "      <td>0.000061</td>\n",
              "      <td>0.000061</td>\n",
              "      <td>0.000061</td>\n",
              "      <td>0.000061</td>\n",
              "      <td>0.193820</td>\n",
              "      <td>-0.056306</td>\n",
              "      <td>-0.046540</td>\n",
              "      <td>0.164279</td>\n",
              "      <td>-0.142245</td>\n",
              "      <td>0.031708</td>\n",
              "      <td>0.000031</td>\n",
              "      <td>0.000031</td>\n",
              "      <td>0.000031</td>\n",
              "      <td>0.000031</td>\n",
              "      <td>0.000031</td>\n",
              "      <td>0.000031</td>\n",
              "      <td>3.089647</td>\n",
              "      <td>2.758831</td>\n",
              "      <td>0.825013</td>\n",
              "      <td>0.825013</td>\n",
              "    </tr>\n",
              "  </tbody>\n",
              "</table>\n",
              "<p>6369 rows × 41 columns</p>\n",
              "</div>"
            ],
            "text/plain": [
              "        Time         G1X        G1Y  ...      EMG2    PULSEA    PULSEB\n",
              "296     5.92  -86.648356  32.845045  ...  2.761273  0.825013  0.825013\n",
              "297     5.94 -103.173877 -12.520027  ...  2.756390  0.825013  0.825013\n",
              "298     5.96  -16.990921 -59.273671  ...  2.756390  0.825013  0.825013\n",
              "299     5.98   35.790036 -79.156176  ...  2.756390  0.825013  0.825013\n",
              "300     6.00   56.450752 -42.076753  ...  2.760052  0.825013  0.825013\n",
              "...      ...         ...        ...  ...       ...       ...       ...\n",
              "6660  133.20  -53.841459 -54.055085  ...  2.782025  0.825013  0.825013\n",
              "6661  133.22  -49.599451 -70.428016  ...  2.760052  0.825013  0.825013\n",
              "6662  133.24  -22.743572 -41.588464  ...  2.763714  0.825013  0.825013\n",
              "6663  133.26   31.212329  22.224765  ...  2.758831  0.825013  0.825013\n",
              "6664  133.28   65.667201  66.918441  ...  2.758831  0.825013  0.825013\n",
              "\n",
              "[6369 rows x 41 columns]"
            ]
          },
          "metadata": {
            "tags": []
          },
          "execution_count": 8
        }
      ]
    },
    {
      "cell_type": "code",
      "metadata": {
        "id": "joJX0d72Z9hQ",
        "colab_type": "code",
        "colab": {}
      },
      "source": [
        "df_p_2 = df_parkinsonian.loc[df_parkinsonian['PULSEB']<2]"
      ],
      "execution_count": 0,
      "outputs": []
    },
    {
      "cell_type": "code",
      "metadata": {
        "id": "tDsboEujZ_uI",
        "colab_type": "code",
        "outputId": "98126311-66ad-4837-97ee-59c8fc176b53",
        "colab": {
          "base_uri": "https://localhost:8080/",
          "height": 34
        }
      },
      "source": [
        "f = len(df_p_2)/50 # size/frequency in Hz to get the time\n",
        "l = np.arange(0,f,(1/50)) #set a vector to be the counter of time starting in zero\n",
        "len(l) #size of the vector\n",
        "# precisão de duas casas"
      ],
      "execution_count": 10,
      "outputs": [
        {
          "output_type": "execute_result",
          "data": {
            "text/plain": [
              "6369"
            ]
          },
          "metadata": {
            "tags": []
          },
          "execution_count": 10
        }
      ]
    },
    {
      "cell_type": "code",
      "metadata": {
        "id": "RmdgeAZQbdON",
        "colab_type": "code",
        "outputId": "a109e5b8-df1e-465c-85cf-49143d89869f",
        "colab": {
          "base_uri": "https://localhost:8080/",
          "height": 208
        }
      },
      "source": [
        "type(l)\n",
        "l.tolist()\n",
        "df_p_2.drop('Time',inplace=True,axis=1)\n",
        "df_p_2['Time']=l.tolist()"
      ],
      "execution_count": 11,
      "outputs": [
        {
          "output_type": "stream",
          "text": [
            "/usr/local/lib/python3.6/dist-packages/pandas/core/frame.py:3997: SettingWithCopyWarning: \n",
            "A value is trying to be set on a copy of a slice from a DataFrame\n",
            "\n",
            "See the caveats in the documentation: https://pandas.pydata.org/pandas-docs/stable/user_guide/indexing.html#returning-a-view-versus-a-copy\n",
            "  errors=errors,\n",
            "/usr/local/lib/python3.6/dist-packages/ipykernel_launcher.py:4: SettingWithCopyWarning: \n",
            "A value is trying to be set on a copy of a slice from a DataFrame.\n",
            "Try using .loc[row_indexer,col_indexer] = value instead\n",
            "\n",
            "See the caveats in the documentation: https://pandas.pydata.org/pandas-docs/stable/user_guide/indexing.html#returning-a-view-versus-a-copy\n",
            "  after removing the cwd from sys.path.\n"
          ],
          "name": "stderr"
        }
      ]
    },
    {
      "cell_type": "code",
      "metadata": {
        "id": "Q5o582vbbk9T",
        "colab_type": "code",
        "colab": {}
      },
      "source": [
        "df_parkinsonian= df_p_2"
      ],
      "execution_count": 0,
      "outputs": []
    },
    {
      "cell_type": "code",
      "metadata": {
        "id": "B3qx-2W3Qr1A",
        "colab_type": "code",
        "outputId": "9647f7f9-2d9d-4cd8-f9ef-a453eae3e7cc",
        "colab": {
          "base_uri": "https://localhost:8080/",
          "height": 296
        }
      },
      "source": [
        "df_parkinsonian.plot(kind='line',x='Time',y=['G1Y','PULSEB'])"
      ],
      "execution_count": 13,
      "outputs": [
        {
          "output_type": "execute_result",
          "data": {
            "text/plain": [
              "<matplotlib.axes._subplots.AxesSubplot at 0x7fdb5c6ed2e8>"
            ]
          },
          "metadata": {
            "tags": []
          },
          "execution_count": 13
        },
        {
          "output_type": "display_data",
          "data": {
            "image/png": "[encoded data removed]",
            "text/plain": [
              "<Figure size 432x288 with 1 Axes>"
            ]
          },
          "metadata": {
            "tags": [],
            "needs_background": "light"
          }
        }
      ]
    },
    {
      "cell_type": "code",
      "metadata": {
        "id": "_vPos0iDRayJ",
        "colab_type": "code",
        "outputId": "a93a53b9-b405-475f-9b0e-c50cf46ff821",
        "colab": {
          "base_uri": "https://localhost:8080/",
          "height": 296
        }
      },
      "source": [
        "df_parkinsonian.plot(kind='line',x='Time',y=['G3Y','PULSEB'])"
      ],
      "execution_count": 14,
      "outputs": [
        {
          "output_type": "execute_result",
          "data": {
            "text/plain": [
              "<matplotlib.axes._subplots.AxesSubplot at 0x7fdb5c0f8ef0>"
            ]
          },
          "metadata": {
            "tags": []
          },
          "execution_count": 14
        },
        {
          "output_type": "display_data",
          "data": {
            "image/png": "[encoded data removed]",
            "text/plain": [
              "<Figure size 432x288 with 1 Axes>"
            ]
          },
          "metadata": {
            "tags": [],
            "needs_background": "light"
          }
        }
      ]
    },
    {
      "cell_type": "markdown",
      "metadata": {
        "id": "_cxIfP9fRh6k",
        "colab_type": "text"
      },
      "source": [
        "### Plotting important axis\n",
        "- G1 refere-se ao giroscópio fixado no dorso da mão"
      ]
    },
    {
      "cell_type": "code",
      "metadata": {
        "id": "_lpX0baxR-P-",
        "colab_type": "code",
        "outputId": "c26f143e-a143-4acc-fee4-13611a8bd527",
        "colab": {
          "base_uri": "https://localhost:8080/",
          "height": 0
        }
      },
      "source": [
        "df_parkinsonian.plot(kind='line',x='Time',y=['G1Y','G1Z','PULSEB'])"
      ],
      "execution_count": 15,
      "outputs": [
        {
          "output_type": "execute_result",
          "data": {
            "text/plain": [
              "<matplotlib.axes._subplots.AxesSubplot at 0x7fdb5c070780>"
            ]
          },
          "metadata": {
            "tags": []
          },
          "execution_count": 15
        },
        {
          "output_type": "display_data",
          "data": {
            "image/png": "[encoded data removed]",
            "text/plain": [
              "<Figure size 432x288 with 1 Axes>"
            ]
          },
          "metadata": {
            "tags": [],
            "needs_background": "light"
          }
        }
      ]
    },
    {
      "cell_type": "markdown",
      "metadata": {
        "id": "oN4Q03JJo-t6",
        "colab_type": "text"
      },
      "source": [
        "### Audio getter"
      ]
    },
    {
      "cell_type": "code",
      "metadata": {
        "id": "zHxnH-XsepPr",
        "colab_type": "code",
        "colab": {}
      },
      "source": [
        "audio_link = 'https://drive.google.com/open?id=1REW8Bn01cVniE8TQx3aZTeyfoUHqRUII'\n",
        "fluff, id = audio_link.split('=')\n",
        "downloaded = drive.CreateFile({'id':id}) "
      ],
      "execution_count": 0,
      "outputs": []
    },
    {
      "cell_type": "code",
      "metadata": {
        "id": "IrFHQJniert7",
        "colab_type": "code",
        "colab": {}
      },
      "source": [
        "downloaded.GetContentFile('experiment beeps_between_act.wav')"
      ],
      "execution_count": 0,
      "outputs": []
    },
    {
      "cell_type": "code",
      "metadata": {
        "id": "Hz1P1TtQVIYA",
        "colab_type": "code",
        "colab": {}
      },
      "source": [
        "import matplotlib.pyplot as plt\n",
        "import numpy as np\n",
        "import wave\n",
        "import sys"
      ],
      "execution_count": 0,
      "outputs": []
    },
    {
      "cell_type": "markdown",
      "metadata": {
        "id": "Gooe-czrf_iw",
        "colab_type": "text"
      },
      "source": [
        "### Audio processing"
      ]
    },
    {
      "cell_type": "code",
      "metadata": {
        "id": "8_-e-kgdfwVJ",
        "colab_type": "code",
        "colab": {}
      },
      "source": [
        "spf = wave.open(\"experiment beeps_between_act.wav\", \"r\")"
      ],
      "execution_count": 0,
      "outputs": []
    },
    {
      "cell_type": "code",
      "metadata": {
        "id": "BmNaGA97n3hu",
        "colab_type": "code",
        "outputId": "b7783cee-6b7b-4ee9-dede-06f703485596",
        "colab": {
          "base_uri": "https://localhost:8080/",
          "height": 106
        }
      },
      "source": [
        "# Extract Raw Audio from Wav File\n",
        "signal = spf.readframes(-1)\n",
        "signal = np.fromstring(signal, \"Int16\")\n",
        "fs = spf.getframerate()"
      ],
      "execution_count": 20,
      "outputs": [
        {
          "output_type": "stream",
          "text": [
            "/usr/local/lib/python3.6/dist-packages/ipykernel_launcher.py:2: DeprecationWarning: Numeric-style type codes are deprecated and will result in an error in the future.\n",
            "  \n",
            "/usr/local/lib/python3.6/dist-packages/ipykernel_launcher.py:2: DeprecationWarning: The binary mode of fromstring is deprecated, as it behaves surprisingly on unicode inputs. Use frombuffer instead\n",
            "  \n"
          ],
          "name": "stderr"
        }
      ]
    },
    {
      "cell_type": "code",
      "metadata": {
        "id": "xDaQRDQ_n8Kz",
        "colab_type": "code",
        "colab": {}
      },
      "source": [
        "# If Stereo\n",
        "if spf.getnchannels() == 2:\n",
        "    print(\"Just mono files\")\n",
        "    sys.exit(0)"
      ],
      "execution_count": 0,
      "outputs": []
    },
    {
      "cell_type": "code",
      "metadata": {
        "id": "z4YCddIHYSe-",
        "colab_type": "code",
        "outputId": "c1eab22c-7ff1-4d3e-dd99-8a575ce889dc",
        "colab": {
          "base_uri": "https://localhost:8080/",
          "height": 34
        }
      },
      "source": [
        "fs"
      ],
      "execution_count": 22,
      "outputs": [
        {
          "output_type": "execute_result",
          "data": {
            "text/plain": [
              "22050"
            ]
          },
          "metadata": {
            "tags": []
          },
          "execution_count": 22
        }
      ]
    },
    {
      "cell_type": "code",
      "metadata": {
        "id": "d-4z9J_on9Nn",
        "colab_type": "code",
        "colab": {}
      },
      "source": [
        "Time = np.linspace(0, len(signal) / fs, num=len(signal))"
      ],
      "execution_count": 0,
      "outputs": []
    },
    {
      "cell_type": "code",
      "metadata": {
        "id": "8D5ZrigFn_vl",
        "colab_type": "code",
        "colab": {
          "base_uri": "https://localhost:8080/",
          "height": 281
        },
        "outputId": "775ab22e-52f1-4f9b-8287-102adc48b445"
      },
      "source": [
        "plt.figure(1)\n",
        "plt.title(\"Signal Wave...\")\n",
        "plt.plot(Time, signal)\n",
        "plt.show()"
      ],
      "execution_count": 24,
      "outputs": [
        {
          "output_type": "display_data",
          "data": {
            "image/png": "[encoded data removed]",
            "text/plain": [
              "<Figure size 432x288 with 1 Axes>"
            ]
          },
          "metadata": {
            "tags": [],
            "needs_background": "light"
          }
        }
      ]
    },
    {
      "cell_type": "code",
      "metadata": {
        "id": "xU1vJD7o-N08",
        "colab_type": "code",
        "colab": {}
      },
      "source": [
        "audio_signal = []\n",
        "value=32.00\n",
        "for i in np.arange(0,f,(1/50)):\n",
        "    if i==10.00:\n",
        "        audio_signal.append(50)\n",
        "    elif i==20.00:\n",
        "        audio_signal.append(50)\n",
        "    elif (i==value):\n",
        "        audio_signal.append(50)\n",
        "        value+=12\n",
        "    else:\n",
        "        audio_signal.append(0)"
      ],
      "execution_count": 0,
      "outputs": []
    },
    {
      "cell_type": "code",
      "metadata": {
        "id": "8ce0VCMv-qSZ",
        "colab_type": "code",
        "colab": {
          "base_uri": "https://localhost:8080/",
          "height": 281
        },
        "outputId": "598146aa-90d1-4624-82ea-0d343da59ea3"
      },
      "source": [
        "plt.figure(1)\n",
        "plt.title(\"Signal Wave...\")\n",
        "plt.plot(l, audio_signal)\n",
        "plt.show()"
      ],
      "execution_count": 26,
      "outputs": [
        {
          "output_type": "display_data",
          "data": {
            "image/png": "[encoded data removed]",
            "text/plain": [
              "<Figure size 432x288 with 1 Axes>"
            ]
          },
          "metadata": {
            "tags": [],
            "needs_background": "light"
          }
        }
      ]
    },
    {
      "cell_type": "code",
      "metadata": {
        "id": "i-l_PeslB6oT",
        "colab_type": "code",
        "colab": {
          "base_uri": "https://localhost:8080/",
          "height": 34
        },
        "outputId": "7c8c0655-f393-4aa4-bdc4-0bdaff0131d1"
      },
      "source": [
        "len(audio_signal)"
      ],
      "execution_count": 27,
      "outputs": [
        {
          "output_type": "execute_result",
          "data": {
            "text/plain": [
              "6369"
            ]
          },
          "metadata": {
            "tags": []
          },
          "execution_count": 27
        }
      ]
    },
    {
      "cell_type": "code",
      "metadata": {
        "id": "2lzMKQXmAz35",
        "colab_type": "code",
        "colab": {
          "base_uri": "https://localhost:8080/",
          "height": 34
        },
        "outputId": "6d602f15-0012-4bcb-cf90-2d1ec55da750"
      },
      "source": [
        "df_parkinsonian.shape"
      ],
      "execution_count": 28,
      "outputs": [
        {
          "output_type": "execute_result",
          "data": {
            "text/plain": [
              "(6369, 41)"
            ]
          },
          "metadata": {
            "tags": []
          },
          "execution_count": 28
        }
      ]
    },
    {
      "cell_type": "code",
      "metadata": {
        "id": "vWe0gaKv_N5_",
        "colab_type": "code",
        "colab": {}
      },
      "source": [
        "df_parkinsonian['audio_signal']=audio_signal"
      ],
      "execution_count": 0,
      "outputs": []
    },
    {
      "cell_type": "code",
      "metadata": {
        "id": "UmIDTfhF_vUP",
        "colab_type": "code",
        "colab": {
          "base_uri": "https://localhost:8080/",
          "height": 226
        },
        "outputId": "38222c31-854f-4eb8-abb5-1004f9a14a09"
      },
      "source": [
        "df_parkinsonian.head()"
      ],
      "execution_count": 30,
      "outputs": [
        {
          "output_type": "execute_result",
          "data": {
            "text/html": [
              "<div>\n",
              "<style scoped>\n",
              "    .dataframe tbody tr th:only-of-type {\n",
              "        vertical-align: middle;\n",
              "    }\n",
              "\n",
              "    .dataframe tbody tr th {\n",
              "        vertical-align: top;\n",
              "    }\n",
              "\n",
              "    .dataframe thead th {\n",
              "        text-align: right;\n",
              "    }\n",
              "</style>\n",
              "<table border=\"1\" class=\"dataframe\">\n",
              "  <thead>\n",
              "    <tr style=\"text-align: right;\">\n",
              "      <th></th>\n",
              "      <th>G1X</th>\n",
              "      <th>G1Y</th>\n",
              "      <th>G1Z</th>\n",
              "      <th>G2X</th>\n",
              "      <th>G2Y</th>\n",
              "      <th>G2Z</th>\n",
              "      <th>G3X</th>\n",
              "      <th>G3Y</th>\n",
              "      <th>G3Z</th>\n",
              "      <th>G4X</th>\n",
              "      <th>G4Y</th>\n",
              "      <th>G4Z</th>\n",
              "      <th>A1X</th>\n",
              "      <th>A1Y</th>\n",
              "      <th>A1Z</th>\n",
              "      <th>A2X</th>\n",
              "      <th>A2Y</th>\n",
              "      <th>A2Z</th>\n",
              "      <th>A3X</th>\n",
              "      <th>A3Y</th>\n",
              "      <th>A3Z</th>\n",
              "      <th>A4X</th>\n",
              "      <th>A4Y</th>\n",
              "      <th>A4Z</th>\n",
              "      <th>M1X</th>\n",
              "      <th>M1Y</th>\n",
              "      <th>M1Z</th>\n",
              "      <th>M2X</th>\n",
              "      <th>M2Y</th>\n",
              "      <th>M2Z</th>\n",
              "      <th>M3X</th>\n",
              "      <th>M3Y</th>\n",
              "      <th>M3Z</th>\n",
              "      <th>M4X</th>\n",
              "      <th>M4Y</th>\n",
              "      <th>M4Z</th>\n",
              "      <th>EMG1</th>\n",
              "      <th>EMG2</th>\n",
              "      <th>PULSEA</th>\n",
              "      <th>PULSEB</th>\n",
              "      <th>Time</th>\n",
              "      <th>audio_signal</th>\n",
              "    </tr>\n",
              "  </thead>\n",
              "  <tbody>\n",
              "    <tr>\n",
              "      <th>296</th>\n",
              "      <td>-86.648356</td>\n",
              "      <td>32.845045</td>\n",
              "      <td>44.090944</td>\n",
              "      <td>14.961471</td>\n",
              "      <td>-0.785840</td>\n",
              "      <td>20.241093</td>\n",
              "      <td>0.00763</td>\n",
              "      <td>0.00763</td>\n",
              "      <td>0.00763</td>\n",
              "      <td>0.00763</td>\n",
              "      <td>0.00763</td>\n",
              "      <td>0.00763</td>\n",
              "      <td>-0.128237</td>\n",
              "      <td>-0.427070</td>\n",
              "      <td>-0.390326</td>\n",
              "      <td>-0.257145</td>\n",
              "      <td>-0.202701</td>\n",
              "      <td>-0.805005</td>\n",
              "      <td>0.000061</td>\n",
              "      <td>0.000061</td>\n",
              "      <td>0.000061</td>\n",
              "      <td>0.000061</td>\n",
              "      <td>0.000061</td>\n",
              "      <td>0.000061</td>\n",
              "      <td>0.198215</td>\n",
              "      <td>-0.045075</td>\n",
              "      <td>-0.037995</td>\n",
              "      <td>0.162020</td>\n",
              "      <td>-0.146456</td>\n",
              "      <td>0.030915</td>\n",
              "      <td>0.000031</td>\n",
              "      <td>0.000031</td>\n",
              "      <td>0.000031</td>\n",
              "      <td>0.000031</td>\n",
              "      <td>0.000031</td>\n",
              "      <td>0.000031</td>\n",
              "      <td>3.085985</td>\n",
              "      <td>2.761273</td>\n",
              "      <td>0.825013</td>\n",
              "      <td>0.825013</td>\n",
              "      <td>0.00</td>\n",
              "      <td>0</td>\n",
              "    </tr>\n",
              "    <tr>\n",
              "      <th>297</th>\n",
              "      <td>-103.173877</td>\n",
              "      <td>-12.520027</td>\n",
              "      <td>55.748836</td>\n",
              "      <td>-6.355383</td>\n",
              "      <td>-5.409323</td>\n",
              "      <td>18.272679</td>\n",
              "      <td>0.00763</td>\n",
              "      <td>0.00763</td>\n",
              "      <td>0.00763</td>\n",
              "      <td>0.00763</td>\n",
              "      <td>0.00763</td>\n",
              "      <td>0.00763</td>\n",
              "      <td>-0.116884</td>\n",
              "      <td>-0.419135</td>\n",
              "      <td>-0.318547</td>\n",
              "      <td>-0.293278</td>\n",
              "      <td>-0.282048</td>\n",
              "      <td>-0.826368</td>\n",
              "      <td>0.000061</td>\n",
              "      <td>0.000061</td>\n",
              "      <td>0.000061</td>\n",
              "      <td>0.000061</td>\n",
              "      <td>0.000061</td>\n",
              "      <td>0.000061</td>\n",
              "      <td>0.198215</td>\n",
              "      <td>-0.045075</td>\n",
              "      <td>-0.037995</td>\n",
              "      <td>0.160311</td>\n",
              "      <td>-0.148165</td>\n",
              "      <td>0.027924</td>\n",
              "      <td>0.000031</td>\n",
              "      <td>0.000031</td>\n",
              "      <td>0.000031</td>\n",
              "      <td>0.000031</td>\n",
              "      <td>0.000031</td>\n",
              "      <td>0.000031</td>\n",
              "      <td>3.082322</td>\n",
              "      <td>2.756390</td>\n",
              "      <td>0.825013</td>\n",
              "      <td>0.825013</td>\n",
              "      <td>0.02</td>\n",
              "      <td>0</td>\n",
              "    </tr>\n",
              "    <tr>\n",
              "      <th>298</th>\n",
              "      <td>-16.990921</td>\n",
              "      <td>-59.273671</td>\n",
              "      <td>47.737850</td>\n",
              "      <td>0.083925</td>\n",
              "      <td>-3.334096</td>\n",
              "      <td>19.462882</td>\n",
              "      <td>0.00763</td>\n",
              "      <td>0.00763</td>\n",
              "      <td>0.00763</td>\n",
              "      <td>0.00763</td>\n",
              "      <td>0.00763</td>\n",
              "      <td>0.00763</td>\n",
              "      <td>-0.285100</td>\n",
              "      <td>-0.539010</td>\n",
              "      <td>-0.522286</td>\n",
              "      <td>-0.373846</td>\n",
              "      <td>-0.181460</td>\n",
              "      <td>-0.820874</td>\n",
              "      <td>0.000061</td>\n",
              "      <td>0.000061</td>\n",
              "      <td>0.000061</td>\n",
              "      <td>0.000061</td>\n",
              "      <td>0.000061</td>\n",
              "      <td>0.000061</td>\n",
              "      <td>0.199496</td>\n",
              "      <td>-0.047761</td>\n",
              "      <td>-0.037507</td>\n",
              "      <td>0.160616</td>\n",
              "      <td>-0.147982</td>\n",
              "      <td>0.023774</td>\n",
              "      <td>0.000031</td>\n",
              "      <td>0.000031</td>\n",
              "      <td>0.000031</td>\n",
              "      <td>0.000031</td>\n",
              "      <td>0.000031</td>\n",
              "      <td>0.000031</td>\n",
              "      <td>3.081102</td>\n",
              "      <td>2.756390</td>\n",
              "      <td>0.825013</td>\n",
              "      <td>0.825013</td>\n",
              "      <td>0.04</td>\n",
              "      <td>0</td>\n",
              "    </tr>\n",
              "    <tr>\n",
              "      <th>299</th>\n",
              "      <td>35.790036</td>\n",
              "      <td>-79.156176</td>\n",
              "      <td>18.425269</td>\n",
              "      <td>17.143511</td>\n",
              "      <td>4.615854</td>\n",
              "      <td>3.425650</td>\n",
              "      <td>0.00763</td>\n",
              "      <td>0.00763</td>\n",
              "      <td>0.00763</td>\n",
              "      <td>0.00763</td>\n",
              "      <td>0.00763</td>\n",
              "      <td>0.00763</td>\n",
              "      <td>-0.401312</td>\n",
              "      <td>-1.021561</td>\n",
              "      <td>-0.665232</td>\n",
              "      <td>-0.467842</td>\n",
              "      <td>-0.353460</td>\n",
              "      <td>-0.869703</td>\n",
              "      <td>0.000061</td>\n",
              "      <td>0.000061</td>\n",
              "      <td>0.000061</td>\n",
              "      <td>0.000061</td>\n",
              "      <td>0.000061</td>\n",
              "      <td>0.000061</td>\n",
              "      <td>0.205234</td>\n",
              "      <td>-0.048615</td>\n",
              "      <td>-0.041535</td>\n",
              "      <td>0.161288</td>\n",
              "      <td>-0.148409</td>\n",
              "      <td>0.012848</td>\n",
              "      <td>0.000031</td>\n",
              "      <td>0.000031</td>\n",
              "      <td>0.000031</td>\n",
              "      <td>0.000031</td>\n",
              "      <td>0.000031</td>\n",
              "      <td>0.000031</td>\n",
              "      <td>3.081102</td>\n",
              "      <td>2.756390</td>\n",
              "      <td>0.825013</td>\n",
              "      <td>0.825013</td>\n",
              "      <td>0.06</td>\n",
              "      <td>0</td>\n",
              "    </tr>\n",
              "    <tr>\n",
              "      <th>300</th>\n",
              "      <td>56.450752</td>\n",
              "      <td>-42.076753</td>\n",
              "      <td>-28.908217</td>\n",
              "      <td>14.747845</td>\n",
              "      <td>2.906844</td>\n",
              "      <td>-9.071489</td>\n",
              "      <td>0.00763</td>\n",
              "      <td>0.00763</td>\n",
              "      <td>0.00763</td>\n",
              "      <td>0.00763</td>\n",
              "      <td>0.00763</td>\n",
              "      <td>0.00763</td>\n",
              "      <td>-0.554635</td>\n",
              "      <td>-1.175128</td>\n",
              "      <td>-0.819043</td>\n",
              "      <td>-0.417426</td>\n",
              "      <td>-0.294987</td>\n",
              "      <td>-0.728222</td>\n",
              "      <td>0.000061</td>\n",
              "      <td>0.000061</td>\n",
              "      <td>0.000061</td>\n",
              "      <td>0.000061</td>\n",
              "      <td>0.000061</td>\n",
              "      <td>0.000061</td>\n",
              "      <td>0.206882</td>\n",
              "      <td>-0.049653</td>\n",
              "      <td>-0.045197</td>\n",
              "      <td>0.161410</td>\n",
              "      <td>-0.149935</td>\n",
              "      <td>0.019806</td>\n",
              "      <td>0.000031</td>\n",
              "      <td>0.000031</td>\n",
              "      <td>0.000031</td>\n",
              "      <td>0.000031</td>\n",
              "      <td>0.000031</td>\n",
              "      <td>0.000031</td>\n",
              "      <td>3.083543</td>\n",
              "      <td>2.760052</td>\n",
              "      <td>0.825013</td>\n",
              "      <td>0.825013</td>\n",
              "      <td>0.08</td>\n",
              "      <td>0</td>\n",
              "    </tr>\n",
              "  </tbody>\n",
              "</table>\n",
              "</div>"
            ],
            "text/plain": [
              "            G1X        G1Y        G1Z  ...    PULSEB  Time  audio_signal\n",
              "296  -86.648356  32.845045  44.090944  ...  0.825013  0.00             0\n",
              "297 -103.173877 -12.520027  55.748836  ...  0.825013  0.02             0\n",
              "298  -16.990921 -59.273671  47.737850  ...  0.825013  0.04             0\n",
              "299   35.790036 -79.156176  18.425269  ...  0.825013  0.06             0\n",
              "300   56.450752 -42.076753 -28.908217  ...  0.825013  0.08             0\n",
              "\n",
              "[5 rows x 42 columns]"
            ]
          },
          "metadata": {
            "tags": []
          },
          "execution_count": 30
        }
      ]
    },
    {
      "cell_type": "code",
      "metadata": {
        "id": "CtE4U1VL_2r8",
        "colab_type": "code",
        "colab": {
          "base_uri": "https://localhost:8080/",
          "height": 296
        },
        "outputId": "bb307b37-0601-4c86-b46b-a0032a277ded"
      },
      "source": [
        "df_parkinsonian.plot(kind='line',x='Time',y=['G1Y','audio_signal'])"
      ],
      "execution_count": 31,
      "outputs": [
        {
          "output_type": "execute_result",
          "data": {
            "text/plain": [
              "<matplotlib.axes._subplots.AxesSubplot at 0x7fdb5bddbda0>"
            ]
          },
          "metadata": {
            "tags": []
          },
          "execution_count": 31
        },
        {
          "output_type": "display_data",
          "data": {
            "image/png": "[encoded data removed]",
            "text/plain": [
              "<Figure size 432x288 with 1 Axes>"
            ]
          },
          "metadata": {
            "tags": [],
            "needs_background": "light"
          }
        }
      ]
    },
    {
      "cell_type": "markdown",
      "metadata": {
        "id": "lWJboPX4EB7F",
        "colab_type": "text"
      },
      "source": [
        "# Final Result of Data Preparation\n",
        "Final dataset plotting with slices of activities made by the subjects according to the article [HAND MOTION QUANTIFICATION USING NON-CONTACT CAPACITIVE SENSORS](https://www.researchgate.net/publication/314086406_HAND_MOTION_QUANTIFICATION_USING_NON-CONTACT_CAPACITIVE_SENSORS) "
      ]
    },
    {
      "cell_type": "code",
      "metadata": {
        "id": "h3dLAa31ps7f",
        "colab_type": "code",
        "outputId": "7abe7321-7ac0-4aaf-df4b-8e1044c2703d",
        "colab": {
          "base_uri": "https://localhost:8080/",
          "height": 623
        }
      },
      "source": [
        "df_parkinsonian.plot(kind='line',x='Time',y=['G1Y','audio_signal'],figsize=(20,10),color=['k','r'])"
      ],
      "execution_count": 32,
      "outputs": [
        {
          "output_type": "execute_result",
          "data": {
            "text/plain": [
              "<matplotlib.axes._subplots.AxesSubplot at 0x7fdb5bfec518>"
            ]
          },
          "metadata": {
            "tags": []
          },
          "execution_count": 32
        },
        {
          "output_type": "display_data",
          "data": {
            "image/png": "[encoded data removed]",
            "text/plain": [
              "<Figure size 1440x720 with 1 Axes>"
            ]
          },
          "metadata": {
            "tags": [],
            "needs_background": "light"
          }
        }
      ]
    }
  ]
}