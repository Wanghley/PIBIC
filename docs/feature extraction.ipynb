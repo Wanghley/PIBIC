{
  "nbformat": 4,
  "nbformat_minor": 0,
  "metadata": {
    "colab": {
      "name": "feature extraction.ipynb",
      "provenance": [],
      "collapsed_sections": [
        "uZozpOMCtu-g",
        "DwBAhxEur_Ao",
        "tbQhua6CumEs",
        "blGFprlkyUsR",
        "o18ZzNxq11Bm",
        "Y7G0KzVj5qdj",
        "XdUNFrA96R7n",
        "8WQzphNQ7Oda",
        "vS_Ii3djr6ei",
        "FkOa67meLn9i"
      ],
      "toc_visible": true,
      "authorship_tag": "ABX9TyOnbLs1SPtyfTKnooHh0eId",
      "include_colab_link": true
    },
    "kernelspec": {
      "name": "python3",
      "display_name": "Python 3"
    }
  },
  "cells": [
    {
      "cell_type": "markdown",
      "metadata": {
        "id": "view-in-github",
        "colab_type": "text"
      },
      "source": [
        "<a href=\"https://colab.research.google.com/github/Wanghley/PIBIC-Strategies-Data-Visualization-Medicine/blob/master/feature%20extraction.ipynb\" target=\"_parent\"><img src=\"https://colab.research.google.com/assets/colab-badge.svg\" alt=\"Open In Colab\"/></a>"
      ]
    },
    {
      "cell_type": "markdown",
      "metadata": {
        "id": "ZqftwkHqqohP",
        "colab_type": "text"
      },
      "source": [
        "# 1. Preparation of Dataset to feature extraction"
      ]
    },
    {
      "cell_type": "code",
      "metadata": {
        "id": "ifq49eHtWJSA",
        "colab_type": "code",
        "outputId": "4358a34d-90ef-4d82-f581-d35b0ef004f0",
        "colab": {
          "base_uri": "https://localhost:8080/",
          "height": 54
        }
      },
      "source": [
        "from google.colab import drive\n",
        "drive.mount('/content/drive')"
      ],
      "execution_count": 0,
      "outputs": [
        {
          "output_type": "stream",
          "text": [
            "Drive already mounted at /content/drive; to attempt to forcibly remount, call drive.mount(\"/content/drive\", force_remount=True).\n"
          ],
          "name": "stdout"
        }
      ]
    },
    {
      "cell_type": "code",
      "metadata": {
        "id": "W5YAQ1_qW8eq",
        "colab_type": "code",
        "colab": {}
      },
      "source": [
        "import pandas as pd\n",
        "import matplotlib.pyplot as plt\n",
        "import seaborn as sns\n",
        "import numpy as np\n",
        "import math"
      ],
      "execution_count": 0,
      "outputs": []
    },
    {
      "cell_type": "code",
      "metadata": {
        "id": "VgCG_wxLZ3-c",
        "colab_type": "code",
        "colab": {}
      },
      "source": [
        "# load the features table\n",
        "features_df = pd.read_csv('/content/drive/My Drive/Projects/PIBIC - Estratégia para visualização de dados/Feature extraction/features_extracted.csv')\n",
        "# features_df.drop(['Unnamed: 0'],inplace=True)"
      ],
      "execution_count": 0,
      "outputs": []
    },
    {
      "cell_type": "code",
      "metadata": {
        "id": "KDmsf85XeWLB",
        "colab_type": "code",
        "colab": {}
      },
      "source": [
        "subject_id=10\n",
        "sensor = 1 # 1 - gyro ; 2 - NCC\n",
        "parkinsonian = 1 # 0 - without parkinson ; 1 - with parkinson\n",
        "axis = 2 # 1- X ; 2 - Y ; 3 - Z\n",
        "repetition = 1 # set of data (repetition)"
      ],
      "execution_count": 0,
      "outputs": []
    },
    {
      "cell_type": "code",
      "metadata": {
        "id": "HSJ6bAWGa8oU",
        "colab_type": "code",
        "colab": {}
      },
      "source": [
        "# location of subjects 10 dataframe\n",
        "\n",
        "link = 'Feature extraction/rubens_01_r.csv' #rubens01\n",
        "# link = 'Feature extraction/rubens_02_r.csv' #rubens02\n",
        "# link = 'Feature extraction/rubens_03_r.csv' #rubens03\n",
        "# link = 'Feature extraction/aparecido_01_r.csv' #aparecido01\n",
        "# link = 'Feature extraction/aparecido_02_r.csv' #aparecido02\n",
        "# link = 'Feature extraction/aparecido_03_r.csv' #aparecido03"
      ],
      "execution_count": 0,
      "outputs": []
    },
    {
      "cell_type": "code",
      "metadata": {
        "id": "W8jUI_NsaxPb",
        "colab_type": "code",
        "colab": {}
      },
      "source": [
        "subj_df = pd.read_csv('/content/drive/My Drive/Projects/PIBIC - Estratégia para visualização de dados/'+link)\n",
        "# subj_df['audio_signal']=subj_df['audio_signal'].fillna(-1)"
      ],
      "execution_count": 0,
      "outputs": []
    },
    {
      "cell_type": "code",
      "metadata": {
        "id": "j0zVUq2EaaSO",
        "colab_type": "code",
        "outputId": "277b6f3a-3af5-4b4e-ae78-5d3dd190e9fc",
        "colab": {
          "base_uri": "https://localhost:8080/",
          "height": 101
        }
      },
      "source": [
        "subj_df.head(1)"
      ],
      "execution_count": 0,
      "outputs": [
        {
          "output_type": "execute_result",
          "data": {
            "text/html": [
              "<div>\n",
              "<style scoped>\n",
              "    .dataframe tbody tr th:only-of-type {\n",
              "        vertical-align: middle;\n",
              "    }\n",
              "\n",
              "    .dataframe tbody tr th {\n",
              "        vertical-align: top;\n",
              "    }\n",
              "\n",
              "    .dataframe thead th {\n",
              "        text-align: right;\n",
              "    }\n",
              "</style>\n",
              "<table border=\"1\" class=\"dataframe\">\n",
              "  <thead>\n",
              "    <tr style=\"text-align: right;\">\n",
              "      <th></th>\n",
              "      <th>G1X</th>\n",
              "      <th>G1Y</th>\n",
              "      <th>G1Z</th>\n",
              "      <th>G2X</th>\n",
              "      <th>G2Y</th>\n",
              "      <th>G2Z</th>\n",
              "      <th>G3X</th>\n",
              "      <th>G3Y</th>\n",
              "      <th>G3Z</th>\n",
              "      <th>G4X</th>\n",
              "      <th>G4Y</th>\n",
              "      <th>G4Z</th>\n",
              "      <th>A1X</th>\n",
              "      <th>A1Y</th>\n",
              "      <th>A1Z</th>\n",
              "      <th>A2X</th>\n",
              "      <th>A2Y</th>\n",
              "      <th>A2Z</th>\n",
              "      <th>A3X</th>\n",
              "      <th>A3Y</th>\n",
              "      <th>A3Z</th>\n",
              "      <th>A4X</th>\n",
              "      <th>A4Y</th>\n",
              "      <th>A4Z</th>\n",
              "      <th>M1X</th>\n",
              "      <th>M1Y</th>\n",
              "      <th>M1Z</th>\n",
              "      <th>M2X</th>\n",
              "      <th>M2Y</th>\n",
              "      <th>M2Z</th>\n",
              "      <th>M3X</th>\n",
              "      <th>M3Y</th>\n",
              "      <th>M3Z</th>\n",
              "      <th>M4X</th>\n",
              "      <th>M4Y</th>\n",
              "      <th>M4Z</th>\n",
              "      <th>EMG1</th>\n",
              "      <th>EMG2</th>\n",
              "      <th>PULSEA</th>\n",
              "      <th>PULSEB</th>\n",
              "      <th>Time</th>\n",
              "      <th>audio_signal</th>\n",
              "    </tr>\n",
              "  </thead>\n",
              "  <tbody>\n",
              "    <tr>\n",
              "      <th>0</th>\n",
              "      <td>-1.426719</td>\n",
              "      <td>-6.492714</td>\n",
              "      <td>8.079652</td>\n",
              "      <td>3.89868</td>\n",
              "      <td>2.34226</td>\n",
              "      <td>0.572213</td>\n",
              "      <td>0.00763</td>\n",
              "      <td>0.00763</td>\n",
              "      <td>0.00763</td>\n",
              "      <td>0.00763</td>\n",
              "      <td>0.00763</td>\n",
              "      <td>0.00763</td>\n",
              "      <td>-0.252995</td>\n",
              "      <td>-0.488838</td>\n",
              "      <td>-0.704417</td>\n",
              "      <td>-0.325139</td>\n",
              "      <td>-0.219303</td>\n",
              "      <td>-0.843214</td>\n",
              "      <td>0.000061</td>\n",
              "      <td>0.000061</td>\n",
              "      <td>0.000061</td>\n",
              "      <td>0.000061</td>\n",
              "      <td>0.000061</td>\n",
              "      <td>0.000061</td>\n",
              "      <td>0.198764</td>\n",
              "      <td>-0.0477</td>\n",
              "      <td>-0.045747</td>\n",
              "      <td>0.157809</td>\n",
              "      <td>-0.139254</td>\n",
              "      <td>0.015778</td>\n",
              "      <td>0.000031</td>\n",
              "      <td>0.000031</td>\n",
              "      <td>0.000031</td>\n",
              "      <td>0.000031</td>\n",
              "      <td>0.000031</td>\n",
              "      <td>0.000031</td>\n",
              "      <td>3.089647</td>\n",
              "      <td>2.758831</td>\n",
              "      <td>0.825013</td>\n",
              "      <td>0.825013</td>\n",
              "      <td>0.0</td>\n",
              "      <td>NaN</td>\n",
              "    </tr>\n",
              "  </tbody>\n",
              "</table>\n",
              "</div>"
            ],
            "text/plain": [
              "        G1X       G1Y       G1Z  ...    PULSEB  Time  audio_signal\n",
              "0 -1.426719 -6.492714  8.079652  ...  0.825013   0.0           NaN\n",
              "\n",
              "[1 rows x 42 columns]"
            ]
          },
          "metadata": {
            "tags": []
          },
          "execution_count": 217
        }
      ]
    },
    {
      "cell_type": "code",
      "metadata": {
        "id": "Y5tywmf6gY-L",
        "colab_type": "code",
        "colab": {}
      },
      "source": [
        "index_ini_fim_tasks = subj_df.loc[subj_df['audio_signal']==0].index"
      ],
      "execution_count": 0,
      "outputs": []
    },
    {
      "cell_type": "code",
      "metadata": {
        "id": "6ntcniGSjV-V",
        "colab_type": "code",
        "colab": {}
      },
      "source": [
        "tuple_between = []\n",
        "for i in range(0,len(index_ini_fim_tasks)-1):\n",
        "        tuple_between.append((index_ini_fim_tasks[i],index_ini_fim_tasks[i+1]))\n",
        "        aux = index_ini_fim_tasks[i+1]"
      ],
      "execution_count": 0,
      "outputs": []
    },
    {
      "cell_type": "code",
      "metadata": {
        "id": "CTDzvTC33PmS",
        "colab_type": "code",
        "outputId": "87594454-5409-4b41-fe01-382d05afdb4a",
        "colab": {
          "base_uri": "https://localhost:8080/",
          "height": 191
        }
      },
      "source": [
        "tuple_between"
      ],
      "execution_count": 0,
      "outputs": [
        {
          "output_type": "execute_result",
          "data": {
            "text/plain": [
              "[(154, 654),\n",
              " (654, 1154),\n",
              " (1154, 1754),\n",
              " (1754, 2354),\n",
              " (2354, 2954),\n",
              " (2954, 3554),\n",
              " (3554, 4204),\n",
              " (4204, 4854),\n",
              " (4854, 5504),\n",
              " (5504, 6154)]"
            ]
          },
          "metadata": {
            "tags": []
          },
          "execution_count": 220
        }
      ]
    },
    {
      "cell_type": "markdown",
      "metadata": {
        "id": "uZozpOMCtu-g",
        "colab_type": "text"
      },
      "source": [
        "# 2. Features:"
      ]
    },
    {
      "cell_type": "markdown",
      "metadata": {
        "id": "DwBAhxEur_Ao",
        "colab_type": "text"
      },
      "source": [
        "## MAV\n",
        "Median absolute value"
      ]
    },
    {
      "cell_type": "code",
      "metadata": {
        "id": "ymZTxsQntBv2",
        "colab_type": "code",
        "colab": {}
      },
      "source": [
        "def get_mav(dataframe):\n",
        "    return (dataframe.abs().sum())/(len(dataframe))"
      ],
      "execution_count": 0,
      "outputs": []
    },
    {
      "cell_type": "markdown",
      "metadata": {
        "id": "tbQhua6CumEs",
        "colab_type": "text"
      },
      "source": [
        "## RMS\n",
        "Root median square"
      ]
    },
    {
      "cell_type": "code",
      "metadata": {
        "id": "NqJWYCJVuq7M",
        "colab_type": "code",
        "colab": {}
      },
      "source": [
        "def get_rms(arr,n):\n",
        "    square = 0\n",
        "    mean = 0.0\n",
        "    root = 0.0\n",
        "\n",
        "    #square\n",
        "    for i in range(0,n):\n",
        "        square+=(arr[i]**2)\n",
        "    #mean\n",
        "    mean = (square/(float)(n))\n",
        "    #root\n",
        "    root = math.sqrt(mean)\n",
        "\n",
        "    return root"
      ],
      "execution_count": 0,
      "outputs": []
    },
    {
      "cell_type": "markdown",
      "metadata": {
        "id": "blGFprlkyUsR",
        "colab_type": "text"
      },
      "source": [
        "## Peak\n",
        "maximum value & index of it"
      ]
    },
    {
      "cell_type": "code",
      "metadata": {
        "id": "LIpF741g0JXT",
        "colab_type": "code",
        "colab": {}
      },
      "source": [
        "def get_peak(arr):\n",
        "    max = arr.max()\n",
        "    # for i in arr.index:\n",
        "    #     if arr[i]==max:\n",
        "    #         index=i\n",
        "    return max#,index"
      ],
      "execution_count": 0,
      "outputs": []
    },
    {
      "cell_type": "markdown",
      "metadata": {
        "id": "o18ZzNxq11Bm",
        "colab_type": "text"
      },
      "source": [
        "## MAVSDN\n",
        "mean absolute value of the second diferences normalized<br>\n",
        "Code based in [THIS](https://github.com/UlysseCoteAllard/sEMG_handCraftedVsLearnedFeatures/blob/a935b31774407fb823714a672dfd713322a8371c/PrepareAndLoadData/feature_extraction.py)"
      ]
    },
    {
      "cell_type": "code",
      "metadata": {
        "id": "BZzpZJDU16P0",
        "colab_type": "code",
        "colab": {}
      },
      "source": [
        "def get_mavsdn(vector):\n",
        "    # N = len(arr)\n",
        "    # acum = 0\n",
        "    # std = arr.std()\n",
        "    # mean = arr.mean()\n",
        "    # arr_norm = (arr-mean)/std\n",
        "\n",
        "    # for i in range(0,N-2):\n",
        "    #     acum+= np.abs((arr_norm[i+2]-arr_norm[i]))\n",
        "    # return ((1/(N/2))*acum)\n",
        "    vector = np.asarray(vector)\n",
        "    std = np.std(vector)\n",
        "    return np.mean(np.abs(np.diff(np.diff(vector))))/std"
      ],
      "execution_count": 0,
      "outputs": []
    },
    {
      "cell_type": "markdown",
      "metadata": {
        "id": "Y7G0KzVj5qdj",
        "colab_type": "text"
      },
      "source": [
        "## MAVSD\n",
        "mean absolute value of the second diferences<br>\n",
        "Code based in [THIS](https://github.com/UlysseCoteAllard/sEMG_handCraftedVsLearnedFeatures/blob/a935b31774407fb823714a672dfd713322a8371c/PrepareAndLoadData/feature_extraction.py)"
      ]
    },
    {
      "cell_type": "code",
      "metadata": {
        "id": "AoWNlFbe5ude",
        "colab_type": "code",
        "colab": {}
      },
      "source": [
        "def get_mavsd(vector):\n",
        "    vector = np.asarray(vector)\n",
        "    return np.mean(np.abs(np.diff(np.diff(vector))))"
      ],
      "execution_count": 0,
      "outputs": []
    },
    {
      "cell_type": "markdown",
      "metadata": {
        "id": "XdUNFrA96R7n",
        "colab_type": "text"
      },
      "source": [
        "## MAVFDN\n",
        "mean absolute value of first difference normalized<br>\n",
        "Code based in [THIS](https://github.com/UlysseCoteAllard/sEMG_handCraftedVsLearnedFeatures/blob/a935b31774407fb823714a672dfd713322a8371c/PrepareAndLoadData/feature_extraction.py)"
      ]
    },
    {
      "cell_type": "code",
      "metadata": {
        "id": "GwwtaWd16kPR",
        "colab_type": "code",
        "colab": {}
      },
      "source": [
        "def get_mavfdn(vector):\n",
        "    vector = np.asarray(vector)\n",
        "    std = np.std(vector)\n",
        "    return np.mean(np.abs(np.diff(vector)))/std"
      ],
      "execution_count": 0,
      "outputs": []
    },
    {
      "cell_type": "markdown",
      "metadata": {
        "id": "8WQzphNQ7Oda",
        "colab_type": "text"
      },
      "source": [
        "## STD\n",
        "standard deviation"
      ]
    },
    {
      "cell_type": "code",
      "metadata": {
        "id": "3ANSBkUA7UKC",
        "colab_type": "code",
        "colab": {}
      },
      "source": [
        "def get_std(vector):\n",
        "    return vector.std()"
      ],
      "execution_count": 0,
      "outputs": []
    },
    {
      "cell_type": "markdown",
      "metadata": {
        "id": "kekQWn6iqKgh",
        "colab_type": "text"
      },
      "source": [
        "# Task 1:\n",
        "\n",
        "\n",
        "> remember we are not using the first task itself because is so close to the second one.\n",
        "\n",
        "So our first interval is from 654 to 1154\n",
        "\n"
      ]
    },
    {
      "cell_type": "code",
      "metadata": {
        "id": "vKtvqsyfqyni",
        "colab_type": "code",
        "colab": {}
      },
      "source": [
        "task  = 1 # actually the second in the original DF"
      ],
      "execution_count": 0,
      "outputs": []
    },
    {
      "cell_type": "code",
      "metadata": {
        "id": "VQhyEieBmxZn",
        "colab_type": "code",
        "colab": {}
      },
      "source": [
        "start,end = tuple_between[1]"
      ],
      "execution_count": 0,
      "outputs": []
    },
    {
      "cell_type": "code",
      "metadata": {
        "id": "6PbKIX5Iq2sx",
        "colab_type": "code",
        "colab": {}
      },
      "source": [
        "tsk1_df = subj_df[(subj_df.index>=start) & (subj_df.index<end)]"
      ],
      "execution_count": 0,
      "outputs": []
    },
    {
      "cell_type": "markdown",
      "metadata": {
        "id": "vS_Ii3djr6ei",
        "colab_type": "text"
      },
      "source": [
        "## Getting Y axis of gyro"
      ]
    },
    {
      "cell_type": "code",
      "metadata": {
        "id": "u3p7f57hsEaO",
        "colab_type": "code",
        "colab": {}
      },
      "source": [
        "# get a series of data\n",
        "tsk1y_df = tsk1_df['G1Y']"
      ],
      "execution_count": 0,
      "outputs": []
    },
    {
      "cell_type": "code",
      "metadata": {
        "id": "dIo5LtoqsVza",
        "colab_type": "code",
        "colab": {}
      },
      "source": [
        "# median absolute value\n",
        "mav = get_mav(tsk1y_df)"
      ],
      "execution_count": 0,
      "outputs": []
    },
    {
      "cell_type": "code",
      "metadata": {
        "id": "rS-pn0RDv5v6",
        "colab_type": "code",
        "colab": {}
      },
      "source": [
        "# root mean square\n",
        "rms = get_rms(tsk1y_df.to_numpy(),len(tsk1y_df))"
      ],
      "execution_count": 0,
      "outputs": []
    },
    {
      "cell_type": "code",
      "metadata": {
        "id": "XijWnhQF0v8d",
        "colab_type": "code",
        "colab": {}
      },
      "source": [
        "#peak\n",
        "peak = get_peak(tsk1y_df)"
      ],
      "execution_count": 0,
      "outputs": []
    },
    {
      "cell_type": "code",
      "metadata": {
        "id": "Py-hje1T4PgM",
        "colab_type": "code",
        "colab": {}
      },
      "source": [
        "#mavsdn\n",
        "mavsdn = get_mavsdn(tsk1y_df)"
      ],
      "execution_count": 0,
      "outputs": []
    },
    {
      "cell_type": "code",
      "metadata": {
        "id": "44vbx8Sb6ATj",
        "colab_type": "code",
        "colab": {}
      },
      "source": [
        "#mavsd\n",
        "mavsd = get_mavsd(tsk1y_df)"
      ],
      "execution_count": 0,
      "outputs": []
    },
    {
      "cell_type": "code",
      "metadata": {
        "id": "tU5qgDFB6p-r",
        "colab_type": "code",
        "colab": {}
      },
      "source": [
        "#mavfdn\n",
        "mavfdn = get_mavfdn(tsk1y_df)"
      ],
      "execution_count": 0,
      "outputs": []
    },
    {
      "cell_type": "code",
      "metadata": {
        "id": "W4mh2jfz7Ffo",
        "colab_type": "code",
        "colab": {}
      },
      "source": [
        "#std\n",
        "std=get_std(tsk1y_df)"
      ],
      "execution_count": 0,
      "outputs": []
    },
    {
      "cell_type": "code",
      "metadata": {
        "id": "U3gxZDfL6HfJ",
        "colab_type": "code",
        "outputId": "d38d6688-8dee-41c1-d70e-17404f52d26d",
        "colab": {
          "base_uri": "https://localhost:8080/"
        }
      },
      "source": [
        "peak"
      ],
      "execution_count": 0,
      "outputs": [
        {
          "output_type": "execute_result",
          "data": {
            "text/plain": [
              "88.9372091249"
            ]
          },
          "metadata": {
            "tags": []
          },
          "execution_count": 239
        }
      ]
    },
    {
      "cell_type": "code",
      "metadata": {
        "id": "r7CXgMHTQwM2",
        "colab_type": "code",
        "outputId": "a12d382e-e4f9-4946-f8fd-0d932a1234be",
        "colab": {
          "base_uri": "https://localhost:8080/"
        }
      },
      "source": [
        "features_df.head()"
      ],
      "execution_count": 0,
      "outputs": [
        {
          "output_type": "execute_result",
          "data": {
            "text/html": [
              "<div>\n",
              "<style scoped>\n",
              "    .dataframe tbody tr th:only-of-type {\n",
              "        vertical-align: middle;\n",
              "    }\n",
              "\n",
              "    .dataframe tbody tr th {\n",
              "        vertical-align: top;\n",
              "    }\n",
              "\n",
              "    .dataframe thead th {\n",
              "        text-align: right;\n",
              "    }\n",
              "</style>\n",
              "<table border=\"1\" class=\"dataframe\">\n",
              "  <thead>\n",
              "    <tr style=\"text-align: right;\">\n",
              "      <th></th>\n",
              "      <th>id_subject</th>\n",
              "      <th>repetition</th>\n",
              "      <th>task</th>\n",
              "      <th>sensor</th>\n",
              "      <th>axis</th>\n",
              "      <th>parkinsonian</th>\n",
              "      <th>MAV</th>\n",
              "      <th>RMS</th>\n",
              "      <th>PEAK</th>\n",
              "      <th>MAVSDN</th>\n",
              "      <th>MAVSD</th>\n",
              "      <th>MAVFDN</th>\n",
              "      <th>STD</th>\n",
              "    </tr>\n",
              "  </thead>\n",
              "  <tbody>\n",
              "    <tr>\n",
              "      <th>0</th>\n",
              "      <td>10.0</td>\n",
              "      <td>1.0</td>\n",
              "      <td>1.0</td>\n",
              "      <td>1.0</td>\n",
              "      <td>2.0</td>\n",
              "      <td>0.0</td>\n",
              "      <td>5.257893</td>\n",
              "      <td>5.264690</td>\n",
              "      <td>-4.417487</td>\n",
              "      <td>1.213333</td>\n",
              "      <td>0.324484</td>\n",
              "      <td>0.862038</td>\n",
              "      <td>0.267700</td>\n",
              "    </tr>\n",
              "    <tr>\n",
              "      <th>1</th>\n",
              "      <td>10.0</td>\n",
              "      <td>1.0</td>\n",
              "      <td>1.0</td>\n",
              "      <td>1.0</td>\n",
              "      <td>3.0</td>\n",
              "      <td>0.0</td>\n",
              "      <td>2.106325</td>\n",
              "      <td>2.115874</td>\n",
              "      <td>2.616922</td>\n",
              "      <td>1.239393</td>\n",
              "      <td>0.248863</td>\n",
              "      <td>0.843541</td>\n",
              "      <td>0.200995</td>\n",
              "    </tr>\n",
              "    <tr>\n",
              "      <th>2</th>\n",
              "      <td>10.0</td>\n",
              "      <td>1.0</td>\n",
              "      <td>2.0</td>\n",
              "      <td>1.0</td>\n",
              "      <td>2.0</td>\n",
              "      <td>0.0</td>\n",
              "      <td>10.795961</td>\n",
              "      <td>15.389498</td>\n",
              "      <td>68.627451</td>\n",
              "      <td>0.192503</td>\n",
              "      <td>2.786251</td>\n",
              "      <td>0.260912</td>\n",
              "      <td>14.485868</td>\n",
              "    </tr>\n",
              "    <tr>\n",
              "      <th>3</th>\n",
              "      <td>10.0</td>\n",
              "      <td>1.0</td>\n",
              "      <td>2.0</td>\n",
              "      <td>1.0</td>\n",
              "      <td>3.0</td>\n",
              "      <td>0.0</td>\n",
              "      <td>19.171206</td>\n",
              "      <td>34.779075</td>\n",
              "      <td>139.566644</td>\n",
              "      <td>0.108127</td>\n",
              "      <td>3.751959</td>\n",
              "      <td>0.157963</td>\n",
              "      <td>34.728370</td>\n",
              "    </tr>\n",
              "    <tr>\n",
              "      <th>4</th>\n",
              "      <td>10.0</td>\n",
              "      <td>1.0</td>\n",
              "      <td>3.0</td>\n",
              "      <td>1.0</td>\n",
              "      <td>2.0</td>\n",
              "      <td>0.0</td>\n",
              "      <td>11.397854</td>\n",
              "      <td>18.228737</td>\n",
              "      <td>67.666133</td>\n",
              "      <td>0.149128</td>\n",
              "      <td>2.587552</td>\n",
              "      <td>0.203944</td>\n",
              "      <td>17.365744</td>\n",
              "    </tr>\n",
              "  </tbody>\n",
              "</table>\n",
              "</div>"
            ],
            "text/plain": [
              "   id_subject  repetition  task  ...     MAVSD    MAVFDN        STD\n",
              "0        10.0         1.0   1.0  ...  0.324484  0.862038   0.267700\n",
              "1        10.0         1.0   1.0  ...  0.248863  0.843541   0.200995\n",
              "2        10.0         1.0   2.0  ...  2.786251  0.260912  14.485868\n",
              "3        10.0         1.0   2.0  ...  3.751959  0.157963  34.728370\n",
              "4        10.0         1.0   3.0  ...  2.587552  0.203944  17.365744\n",
              "\n",
              "[5 rows x 13 columns]"
            ]
          },
          "metadata": {
            "tags": []
          },
          "execution_count": 240
        }
      ]
    },
    {
      "cell_type": "code",
      "metadata": {
        "id": "vGa1ovld8cfg",
        "colab_type": "code",
        "colab": {}
      },
      "source": [
        "row = pd.Series([subject_id,repetition,task,sensor,axis,parkinsonian,mav,rms,peak,mavsdn,mavsd,mavfdn,std],index=features_df.columns)"
      ],
      "execution_count": 0,
      "outputs": []
    },
    {
      "cell_type": "code",
      "metadata": {
        "id": "OAgl6K5M9yMU",
        "colab_type": "code",
        "outputId": "8001f6b4-b46c-4dd4-97ad-e6289040ecd8",
        "colab": {
          "base_uri": "https://localhost:8080/"
        }
      },
      "source": [
        "row"
      ],
      "execution_count": 0,
      "outputs": [
        {
          "output_type": "execute_result",
          "data": {
            "text/plain": [
              "id_subject      10.000000\n",
              "repetition       3.000000\n",
              "task             1.000000\n",
              "sensor           1.000000\n",
              "axis             2.000000\n",
              "parkinsonian     1.000000\n",
              "MAV             23.602838\n",
              "RMS             30.236356\n",
              "PEAK            88.937209\n",
              "MAVSDN           0.446641\n",
              "MAVSD           13.201904\n",
              "MAVFDN           0.542283\n",
              "STD             29.587776\n",
              "dtype: float64"
            ]
          },
          "metadata": {
            "tags": []
          },
          "execution_count": 242
        }
      ]
    },
    {
      "cell_type": "code",
      "metadata": {
        "id": "L7R_HHal905f",
        "colab_type": "code",
        "colab": {}
      },
      "source": [
        "features_df = features_df.append(row, ignore_index=True)"
      ],
      "execution_count": 0,
      "outputs": []
    },
    {
      "cell_type": "markdown",
      "metadata": {
        "id": "FkOa67meLn9i",
        "colab_type": "text"
      },
      "source": [
        "## Getting Z axis of gyro"
      ]
    },
    {
      "cell_type": "code",
      "metadata": {
        "id": "La9tNECWMIHo",
        "colab_type": "code",
        "colab": {}
      },
      "source": [
        "# get a series of data\n",
        "tsk1z_df = tsk1_df['G1Z']"
      ],
      "execution_count": 0,
      "outputs": []
    },
    {
      "cell_type": "code",
      "metadata": {
        "id": "IOwnqtuvLzzX",
        "colab_type": "code",
        "colab": {}
      },
      "source": [
        "# Features\n",
        "mav = get_mav(tsk1z_df)\n",
        "rms = get_rms(tsk1z_df.to_numpy(),len(tsk1z_df))\n",
        "peak = get_peak(tsk1z_df)\n",
        "mavsdn = get_mavsdn(tsk1z_df)\n",
        "mavsd = get_mavsd(tsk1z_df)\n",
        "mavfdn = get_mavfdn(tsk1z_df)\n",
        "std=get_std(tsk1z_df)"
      ],
      "execution_count": 0,
      "outputs": []
    },
    {
      "cell_type": "code",
      "metadata": {
        "id": "lBCM82EQMdpn",
        "colab_type": "code",
        "colab": {}
      },
      "source": [
        "axis = 3 #indicates the Z axis"
      ],
      "execution_count": 0,
      "outputs": []
    },
    {
      "cell_type": "code",
      "metadata": {
        "id": "sAXx20uDMaDN",
        "colab_type": "code",
        "colab": {}
      },
      "source": [
        "# Row of features\n",
        "row = pd.Series([subject_id,repetition,task,sensor,axis,parkinsonian,mav,rms,peak,mavsdn,mavsd,mavfdn,std],index=features_df.columns)"
      ],
      "execution_count": 0,
      "outputs": []
    },
    {
      "cell_type": "code",
      "metadata": {
        "id": "RxQM1-7cMkI2",
        "colab_type": "code",
        "colab": {}
      },
      "source": [
        "# Add to DF\n",
        "features_df = features_df.append(row, ignore_index=True)"
      ],
      "execution_count": 0,
      "outputs": []
    },
    {
      "cell_type": "markdown",
      "metadata": {
        "id": "cMdJ_5DqWQzS",
        "colab_type": "text"
      },
      "source": [
        "# Tasks from 3 to 9"
      ]
    },
    {
      "cell_type": "code",
      "metadata": {
        "id": "r15s1DqVS5Gr",
        "colab_type": "code",
        "colab": {}
      },
      "source": [
        "# tuple_between = [(154, 654),(654,1154), (1154, 1754),(1754, 2354), (2354,2954), (2954,3554), (3554,4204), (4204,4854), (4854,5504), (5504,6154)]"
      ],
      "execution_count": 0,
      "outputs": []
    },
    {
      "cell_type": "code",
      "metadata": {
        "id": "Is5y3SSBUdUo",
        "colab_type": "code",
        "colab": {}
      },
      "source": [
        "for i in range (2,10):\n",
        "    task = i\n",
        "    start,end = tuple_between[i]\n",
        "    tsk_df = subj_df[(subj_df.index>=start) & (subj_df.index<end)]\n",
        "\n",
        "    # gyro Y extraction\n",
        "    axis=2\n",
        "    tsky_df = tsk_df['G1Y'] # get a series of data\n",
        "    mav = get_mav(tsky_df)\n",
        "    rms = get_rms(tsky_df.to_numpy(),len(tsky_df))\n",
        "    peak = get_peak(tsky_df)\n",
        "    mavsdn = get_mavsdn(tsky_df)\n",
        "    mavsd = get_mavsd(tsky_df)\n",
        "    mavfdn = get_mavfdn(tsky_df)\n",
        "    std=get_std(tsky_df)\n",
        "\n",
        "    row = pd.Series([subject_id,repetition,task,\\\n",
        "                     sensor,axis,parkinsonian,mav,rms,peak,mavsdn,\\\n",
        "                     mavsd,mavfdn,std],index=features_df.columns)\n",
        "    \n",
        "    features_df = features_df.append(row, ignore_index=True)\n",
        "\n",
        "    # gyro Z extraction\n",
        "    axis=3\n",
        "    tsky_df = tsk_df['G1Z'] # get a series of data\n",
        "    mav = get_mav(tsky_df)\n",
        "    rms = get_rms(tsky_df.to_numpy(),len(tsky_df))\n",
        "    peak = get_peak(tsky_df)\n",
        "    mavsdn = get_mavsdn(tsky_df)\n",
        "    mavsd = get_mavsd(tsky_df)\n",
        "    mavfdn = get_mavfdn(tsky_df)\n",
        "    std=get_std(tsky_df)\n",
        "\n",
        "    row = pd.Series([subject_id,repetition,task,\\\n",
        "                     sensor,axis,parkinsonian,mav,rms,peak,mavsdn,\\\n",
        "                     mavsd,mavfdn,std],index=features_df.columns)\n",
        "    \n",
        "    features_df = features_df.append(row, ignore_index=True)"
      ],
      "execution_count": 0,
      "outputs": []
    },
    {
      "cell_type": "markdown",
      "metadata": {
        "id": "TGUV4mbqOg7C",
        "colab_type": "text"
      },
      "source": [
        "# Save to File"
      ]
    },
    {
      "cell_type": "code",
      "metadata": {
        "id": "CdJS2LDERhT4",
        "colab_type": "code",
        "outputId": "41e82f19-b9f0-4a94-8b06-448884c5e5a2",
        "colab": {
          "base_uri": "https://localhost:8080/",
          "height": 444
        }
      },
      "source": [
        "features_df"
      ],
      "execution_count": 0,
      "outputs": [
        {
          "output_type": "execute_result",
          "data": {
            "text/html": [
              "<div>\n",
              "<style scoped>\n",
              "    .dataframe tbody tr th:only-of-type {\n",
              "        vertical-align: middle;\n",
              "    }\n",
              "\n",
              "    .dataframe tbody tr th {\n",
              "        vertical-align: top;\n",
              "    }\n",
              "\n",
              "    .dataframe thead th {\n",
              "        text-align: right;\n",
              "    }\n",
              "</style>\n",
              "<table border=\"1\" class=\"dataframe\">\n",
              "  <thead>\n",
              "    <tr style=\"text-align: right;\">\n",
              "      <th></th>\n",
              "      <th>id_subject</th>\n",
              "      <th>repetition</th>\n",
              "      <th>task</th>\n",
              "      <th>sensor</th>\n",
              "      <th>axis</th>\n",
              "      <th>parkinsonian</th>\n",
              "      <th>MAV</th>\n",
              "      <th>RMS</th>\n",
              "      <th>PEAK</th>\n",
              "      <th>MAVSDN</th>\n",
              "      <th>MAVSD</th>\n",
              "      <th>MAVFDN</th>\n",
              "      <th>STD</th>\n",
              "    </tr>\n",
              "  </thead>\n",
              "  <tbody>\n",
              "    <tr>\n",
              "      <th>0</th>\n",
              "      <td>10.0</td>\n",
              "      <td>1.0</td>\n",
              "      <td>1.0</td>\n",
              "      <td>1.0</td>\n",
              "      <td>2.0</td>\n",
              "      <td>0.0</td>\n",
              "      <td>5.257893</td>\n",
              "      <td>5.264690</td>\n",
              "      <td>-4.417487</td>\n",
              "      <td>1.213333</td>\n",
              "      <td>0.324484</td>\n",
              "      <td>0.862038</td>\n",
              "      <td>0.267700</td>\n",
              "    </tr>\n",
              "    <tr>\n",
              "      <th>1</th>\n",
              "      <td>10.0</td>\n",
              "      <td>1.0</td>\n",
              "      <td>1.0</td>\n",
              "      <td>1.0</td>\n",
              "      <td>3.0</td>\n",
              "      <td>0.0</td>\n",
              "      <td>2.106325</td>\n",
              "      <td>2.115874</td>\n",
              "      <td>2.616922</td>\n",
              "      <td>1.239393</td>\n",
              "      <td>0.248863</td>\n",
              "      <td>0.843541</td>\n",
              "      <td>0.200995</td>\n",
              "    </tr>\n",
              "    <tr>\n",
              "      <th>2</th>\n",
              "      <td>10.0</td>\n",
              "      <td>1.0</td>\n",
              "      <td>2.0</td>\n",
              "      <td>1.0</td>\n",
              "      <td>2.0</td>\n",
              "      <td>0.0</td>\n",
              "      <td>10.795961</td>\n",
              "      <td>15.389498</td>\n",
              "      <td>68.627451</td>\n",
              "      <td>0.192503</td>\n",
              "      <td>2.786251</td>\n",
              "      <td>0.260912</td>\n",
              "      <td>14.485868</td>\n",
              "    </tr>\n",
              "    <tr>\n",
              "      <th>3</th>\n",
              "      <td>10.0</td>\n",
              "      <td>1.0</td>\n",
              "      <td>2.0</td>\n",
              "      <td>1.0</td>\n",
              "      <td>3.0</td>\n",
              "      <td>0.0</td>\n",
              "      <td>19.171206</td>\n",
              "      <td>34.779075</td>\n",
              "      <td>139.566644</td>\n",
              "      <td>0.108127</td>\n",
              "      <td>3.751959</td>\n",
              "      <td>0.157963</td>\n",
              "      <td>34.728370</td>\n",
              "    </tr>\n",
              "    <tr>\n",
              "      <th>4</th>\n",
              "      <td>10.0</td>\n",
              "      <td>1.0</td>\n",
              "      <td>3.0</td>\n",
              "      <td>1.0</td>\n",
              "      <td>2.0</td>\n",
              "      <td>0.0</td>\n",
              "      <td>11.397854</td>\n",
              "      <td>18.228737</td>\n",
              "      <td>67.666133</td>\n",
              "      <td>0.149128</td>\n",
              "      <td>2.587552</td>\n",
              "      <td>0.203944</td>\n",
              "      <td>17.365744</td>\n",
              "    </tr>\n",
              "    <tr>\n",
              "      <th>...</th>\n",
              "      <td>...</td>\n",
              "      <td>...</td>\n",
              "      <td>...</td>\n",
              "      <td>...</td>\n",
              "      <td>...</td>\n",
              "      <td>...</td>\n",
              "      <td>...</td>\n",
              "      <td>...</td>\n",
              "      <td>...</td>\n",
              "      <td>...</td>\n",
              "      <td>...</td>\n",
              "      <td>...</td>\n",
              "      <td>...</td>\n",
              "    </tr>\n",
              "    <tr>\n",
              "      <th>103</th>\n",
              "      <td>10.0</td>\n",
              "      <td>3.0</td>\n",
              "      <td>7.0</td>\n",
              "      <td>1.0</td>\n",
              "      <td>3.0</td>\n",
              "      <td>1.0</td>\n",
              "      <td>38.981308</td>\n",
              "      <td>48.675199</td>\n",
              "      <td>109.552148</td>\n",
              "      <td>0.406701</td>\n",
              "      <td>19.776587</td>\n",
              "      <td>0.381854</td>\n",
              "      <td>48.664237</td>\n",
              "    </tr>\n",
              "    <tr>\n",
              "      <th>104</th>\n",
              "      <td>10.0</td>\n",
              "      <td>3.0</td>\n",
              "      <td>8.0</td>\n",
              "      <td>1.0</td>\n",
              "      <td>2.0</td>\n",
              "      <td>1.0</td>\n",
              "      <td>51.099553</td>\n",
              "      <td>64.528031</td>\n",
              "      <td>194.697490</td>\n",
              "      <td>0.307426</td>\n",
              "      <td>19.746893</td>\n",
              "      <td>0.381425</td>\n",
              "      <td>64.282385</td>\n",
              "    </tr>\n",
              "    <tr>\n",
              "      <th>105</th>\n",
              "      <td>10.0</td>\n",
              "      <td>3.0</td>\n",
              "      <td>8.0</td>\n",
              "      <td>1.0</td>\n",
              "      <td>3.0</td>\n",
              "      <td>1.0</td>\n",
              "      <td>30.079476</td>\n",
              "      <td>38.174023</td>\n",
              "      <td>114.648661</td>\n",
              "      <td>0.380573</td>\n",
              "      <td>14.500945</td>\n",
              "      <td>0.407069</td>\n",
              "      <td>38.132239</td>\n",
              "    </tr>\n",
              "    <tr>\n",
              "      <th>106</th>\n",
              "      <td>10.0</td>\n",
              "      <td>3.0</td>\n",
              "      <td>9.0</td>\n",
              "      <td>1.0</td>\n",
              "      <td>2.0</td>\n",
              "      <td>1.0</td>\n",
              "      <td>58.646337</td>\n",
              "      <td>74.158044</td>\n",
              "      <td>180.933852</td>\n",
              "      <td>0.306283</td>\n",
              "      <td>22.661885</td>\n",
              "      <td>0.378576</td>\n",
              "      <td>74.047057</td>\n",
              "    </tr>\n",
              "    <tr>\n",
              "      <th>107</th>\n",
              "      <td>10.0</td>\n",
              "      <td>3.0</td>\n",
              "      <td>9.0</td>\n",
              "      <td>1.0</td>\n",
              "      <td>3.0</td>\n",
              "      <td>1.0</td>\n",
              "      <td>38.009472</td>\n",
              "      <td>49.720444</td>\n",
              "      <td>178.019379</td>\n",
              "      <td>0.421712</td>\n",
              "      <td>20.951555</td>\n",
              "      <td>0.451122</td>\n",
              "      <td>49.720386</td>\n",
              "    </tr>\n",
              "  </tbody>\n",
              "</table>\n",
              "<p>108 rows × 13 columns</p>\n",
              "</div>"
            ],
            "text/plain": [
              "     id_subject  repetition  task  ...      MAVSD    MAVFDN        STD\n",
              "0          10.0         1.0   1.0  ...   0.324484  0.862038   0.267700\n",
              "1          10.0         1.0   1.0  ...   0.248863  0.843541   0.200995\n",
              "2          10.0         1.0   2.0  ...   2.786251  0.260912  14.485868\n",
              "3          10.0         1.0   2.0  ...   3.751959  0.157963  34.728370\n",
              "4          10.0         1.0   3.0  ...   2.587552  0.203944  17.365744\n",
              "..          ...         ...   ...  ...        ...       ...        ...\n",
              "103        10.0         3.0   7.0  ...  19.776587  0.381854  48.664237\n",
              "104        10.0         3.0   8.0  ...  19.746893  0.381425  64.282385\n",
              "105        10.0         3.0   8.0  ...  14.500945  0.407069  38.132239\n",
              "106        10.0         3.0   9.0  ...  22.661885  0.378576  74.047057\n",
              "107        10.0         3.0   9.0  ...  20.951555  0.451122  49.720386\n",
              "\n",
              "[108 rows x 13 columns]"
            ]
          },
          "metadata": {
            "tags": []
          },
          "execution_count": 251
        }
      ]
    },
    {
      "cell_type": "code",
      "metadata": {
        "id": "ds5GoEQFOWcg",
        "colab_type": "code",
        "colab": {}
      },
      "source": [
        "features_df.to_csv('/content/drive/My Drive/Projects/PIBIC - Estratégia para visualização de dados/Feature extraction/features_extracted.csv',index=False)"
      ],
      "execution_count": 0,
      "outputs": []
    }
  ]
}